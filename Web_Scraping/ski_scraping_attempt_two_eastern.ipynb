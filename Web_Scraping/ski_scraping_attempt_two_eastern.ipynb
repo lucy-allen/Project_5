{
 "cells": [
  {
   "cell_type": "code",
   "execution_count": 1,
   "metadata": {},
   "outputs": [],
   "source": [
    "from bs4 import BeautifulSoup\n",
    "import requests\n",
    "import time, os"
   ]
  },
  {
   "cell_type": "code",
   "execution_count": 2,
   "metadata": {},
   "outputs": [],
   "source": [
    "from selenium import webdriver\n",
    "from selenium.webdriver.common.keys import Keys"
   ]
  },
  {
   "cell_type": "code",
   "execution_count": 3,
   "metadata": {},
   "outputs": [],
   "source": [
    "chromedriver = \"/Applications/chromedriver\" # path to the chromedriver executable\n",
    "os.environ[\"webdriver.chrome.driver\"] = chromedriver"
   ]
  },
  {
   "cell_type": "code",
   "execution_count": 4,
   "metadata": {},
   "outputs": [],
   "source": [
    "#eastern first 50\n",
    "query = \"eastern-united-states/\"\n",
    "ski_resort_search = \"https://skiresort.info/ski-resorts/\"\n",
    "ski_resort_query = ski_resort_search + query"
   ]
  },
  {
   "cell_type": "code",
   "execution_count": 5,
   "metadata": {},
   "outputs": [],
   "source": [
    "#eastern remaining\n",
    "query2 = \"eastern-united-states/page/2\"\n",
    "ski_resort_search2 = \"https://skiresort.info/ski-resorts/\"\n",
    "ski_resort_query2 = ski_resort_search2 + query2"
   ]
  },
  {
   "cell_type": "code",
   "execution_count": 6,
   "metadata": {},
   "outputs": [],
   "source": [
    "driver = webdriver.Chrome(chromedriver)\n",
    "driver.get(ski_resort_query)"
   ]
  },
  {
   "cell_type": "code",
   "execution_count": 10,
   "metadata": {},
   "outputs": [],
   "source": [
    "driver2 = webdriver.Chrome(chromedriver)\n",
    "driver2.get(ski_resort_query2)"
   ]
  },
  {
   "cell_type": "code",
   "execution_count": 7,
   "metadata": {},
   "outputs": [],
   "source": [
    "time.sleep(3)\n",
    "for i in range(10):\n",
    "    #Scroll\n",
    "    driver.execute_script(\"window.scrollBy(0, 2000);\")\n",
    "    #Wait for page to load\n",
    "    time.sleep(2)"
   ]
  },
  {
   "cell_type": "code",
   "execution_count": 11,
   "metadata": {},
   "outputs": [],
   "source": [
    "time.sleep(3)\n",
    "for i in range(50):\n",
    "    #Scroll\n",
    "    driver2.execute_script(\"window.scrollBy(0, 2000);\")\n",
    "    #Wait for page to load\n",
    "    time.sleep(2)"
   ]
  },
  {
   "cell_type": "code",
   "execution_count": 8,
   "metadata": {},
   "outputs": [],
   "source": [
    "soup = BeautifulSoup(driver.page_source, 'html.parser')"
   ]
  },
  {
   "cell_type": "code",
   "execution_count": 12,
   "metadata": {},
   "outputs": [],
   "source": [
    "soup2 = BeautifulSoup(driver2.page_source, 'html.parser')"
   ]
  },
  {
   "cell_type": "code",
   "execution_count": 13,
   "metadata": {},
   "outputs": [],
   "source": [
    "contents_div = soup.find('div', id='resortList')"
   ]
  },
  {
   "cell_type": "code",
   "execution_count": 14,
   "metadata": {},
   "outputs": [],
   "source": [
    "contents_div2 = soup2.find('div', id='resortList')"
   ]
  },
  {
   "cell_type": "code",
   "execution_count": 15,
   "metadata": {},
   "outputs": [],
   "source": [
    "resort_names = contents_div.find_all('a', class_='h3')"
   ]
  },
  {
   "cell_type": "code",
   "execution_count": 16,
   "metadata": {},
   "outputs": [],
   "source": [
    "resort_names2 = contents_div2.find_all('a', class_='h3')"
   ]
  },
  {
   "cell_type": "code",
   "execution_count": 17,
   "metadata": {},
   "outputs": [
    {
     "data": {
      "text/plain": [
       "[<a class=\"h3\" href=\"https://www.skiresort.info/ski-resort/killington/\"> Killington </a>,\n",
       " <a class=\"h3\" href=\"https://www.skiresort.info/ski-resort/sunday-river/\"> Sunday River </a>,\n",
       " <a class=\"h3\" href=\"https://www.skiresort.info/ski-resort/stowe/\"> Stowe </a>,\n",
       " <a class=\"h3\" href=\"https://www.skiresort.info/ski-resort/whiteface-lake-placid/\"> Whiteface – Lake Placid </a>,\n",
       " <a class=\"h3\" href=\"https://www.skiresort.info/ski-resort/stratton/\"> Stratton </a>,\n",
       " <a class=\"h3\" href=\"https://www.skiresort.info/ski-resort/sugarbush/\"> Sugarbush </a>,\n",
       " <a class=\"h3\" href=\"https://www.skiresort.info/ski-resort/sugarloaf/\"> Sugarloaf </a>,\n",
       " <a class=\"h3\" href=\"https://www.skiresort.info/ski-resort/okemo/\"> Okemo </a>,\n",
       " <a class=\"h3\" href=\"https://www.skiresort.info/ski-resort/bolton-valley/\"> Bolton Valley </a>,\n",
       " <a class=\"h3\" href=\"https://www.skiresort.info/ski-resort/jay-peak/\"> Jay Peak </a>,\n",
       " <a class=\"h3\" href=\"https://www.skiresort.info/ski-resort/bretton-woods/\"> Bretton Woods </a>,\n",
       " <a class=\"h3\" href=\"https://www.skiresort.info/ski-resort/mount-snow/\"> Mount Snow </a>,\n",
       " <a class=\"h3\" href=\"https://www.skiresort.info/ski-resort/smugglers-notch/\"> Smugglers' Notch </a>,\n",
       " <a class=\"h3\" href=\"https://www.skiresort.info/ski-resort/gore-mountain/\"> Gore Mountain </a>,\n",
       " <a class=\"h3\" href=\"https://www.skiresort.info/ski-resort/loon-mountain/\"> Loon Mountain </a>,\n",
       " <a class=\"h3\" href=\"https://www.skiresort.info/ski-resort/hunter-mountain/\"> Hunter Mountain </a>,\n",
       " <a class=\"h3\" href=\"https://www.skiresort.info/ski-resort/windham-mountain/\"> Windham Mountain </a>,\n",
       " <a class=\"h3\" href=\"https://www.skiresort.info/ski-resort/holiday-valley/\"> Holiday Valley </a>,\n",
       " <a class=\"h3\" href=\"https://www.skiresort.info/ski-resort/cannon-mountain/\"> Cannon Mountain </a>,\n",
       " <a class=\"h3\" href=\"https://www.skiresort.info/ski-resort/pico-mountain/\"> Pico Mountain </a>,\n",
       " <a class=\"h3\" href=\"https://www.skiresort.info/ski-resort/gunstock/\"> Gunstock </a>,\n",
       " <a class=\"h3\" href=\"https://www.skiresort.info/ski-resort/mad-river-glen/\"> Mad River Glen </a>,\n",
       " <a class=\"h3\" href=\"https://www.skiresort.info/ski-resort/cranmore-mountain-resort/\"> Cranmore Mountain Resort </a>,\n",
       " <a class=\"h3\" href=\"https://www.skiresort.info/ski-resort/attitash-mountain-resort/\"> Attitash Mountain Resort </a>,\n",
       " <a class=\"h3\" href=\"https://www.skiresort.info/ski-resort/mt-sunapee/\"> Mt. Sunapee </a>,\n",
       " <a class=\"h3\" href=\"https://www.skiresort.info/ski-resort/ragged-mountain/\"> Ragged Mountain </a>,\n",
       " <a class=\"h3\" href=\"https://www.skiresort.info/ski-resort/snowshoe-mountain/\"> Snowshoe Mountain </a>,\n",
       " <a class=\"h3\" href=\"https://www.skiresort.info/ski-resort/wildcat-mountain/\"> Wildcat Mountain </a>,\n",
       " <a class=\"h3\" href=\"https://www.skiresort.info/ski-resort/camelback/\"> Camelback </a>,\n",
       " <a class=\"h3\" href=\"https://www.skiresort.info/ski-resort/waterville-valley/\"> Waterville Valley </a>,\n",
       " <a class=\"h3\" href=\"https://www.skiresort.info/ski-resort/belleayre-mountain/\"> Belleayre Mountain </a>,\n",
       " <a class=\"h3\" href=\"https://www.skiresort.info/ski-resort/mountain-creek-vernon/\"> Mountain Creek – Vernon </a>,\n",
       " <a class=\"h3\" href=\"https://www.skiresort.info/ski-resort/haystack-mountain-the-hermitage-club/\"> Haystack Mountain – The Hermitage Club </a>,\n",
       " <a class=\"h3\" href=\"https://www.skiresort.info/ski-resort/bristol-mountain/\"> Bristol Mountain </a>,\n",
       " <a class=\"h3\" href=\"https://www.skiresort.info/ski-resort/wachusett-mountain/\"> Wachusett Mountain </a>,\n",
       " <a class=\"h3\" href=\"https://www.skiresort.info/ski-resort/pats-peak/\"> Pats Peak </a>,\n",
       " <a class=\"h3\" href=\"https://www.skiresort.info/ski-resort/magic-mountain/\"> Magic Mountain </a>,\n",
       " <a class=\"h3\" href=\"https://www.skiresort.info/ski-resort/titus-mountain/\"> Titus Mountain </a>,\n",
       " <a class=\"h3\" href=\"https://www.skiresort.info/ski-resort/sugar-mountain/\"> Sugar Mountain </a>,\n",
       " <a class=\"h3\" href=\"https://www.skiresort.info/ski-resort/saddleback/\"> Saddleback </a>,\n",
       " <a class=\"h3\" href=\"https://www.skiresort.info/ski-resort/holimont/\"> Holimont </a>,\n",
       " <a class=\"h3\" href=\"https://www.skiresort.info/ski-resort/shawnee-peak/\"> Shawnee Peak </a>,\n",
       " <a class=\"h3\" href=\"https://www.skiresort.info/ski-resort/butternut/\"> Butternut </a>,\n",
       " <a class=\"h3\" href=\"https://www.skiresort.info/ski-resort/seven-springs/\"> Seven Springs </a>,\n",
       " <a class=\"h3\" href=\"https://www.skiresort.info/ski-resort/burke-mountain/\"> Burke Mountain </a>,\n",
       " <a class=\"h3\" href=\"https://www.skiresort.info/ski-resort/bigrock-mountain/\"> Bigrock Mountain </a>,\n",
       " <a class=\"h3\" href=\"https://www.skiresort.info/ski-resort/wintergreen-resort/\"> Wintergreen Resort </a>,\n",
       " <a class=\"h3\" href=\"https://www.skiresort.info/ski-resort/greek-peak/\"> Greek Peak </a>,\n",
       " <a class=\"h3\" href=\"https://www.skiresort.info/ski-resort/shawnee-mountain/\"> Shawnee Mountain </a>,\n",
       " <a class=\"h3\" href=\"https://www.skiresort.info/ski-resort/wisp-mchenry-deep-creek-lake/\"> Wisp – McHenry (Deep Creek Lake) </a>]"
      ]
     },
     "execution_count": 17,
     "metadata": {},
     "output_type": "execute_result"
    }
   ],
   "source": [
    "resort_names"
   ]
  },
  {
   "cell_type": "code",
   "execution_count": 18,
   "metadata": {},
   "outputs": [],
   "source": [
    "resort_locations = contents_div.find_all('div', class_='sub-breadcrumb')"
   ]
  },
  {
   "cell_type": "code",
   "execution_count": 19,
   "metadata": {},
   "outputs": [],
   "source": [
    "resort_locations2 = contents_div2.find_all('div', class_='sub-breadcrumb')"
   ]
  },
  {
   "cell_type": "code",
   "execution_count": 20,
   "metadata": {},
   "outputs": [
    {
     "data": {
      "text/plain": [
       "[<div class=\"sub-breadcrumb\"> <div class=\"sub-breadcrumb\"><a href=\"https://www.skiresort.info/ski-resorts/north-america/\">North America</a> <a href=\"https://www.skiresort.info/ski-resorts/usa/\">USA</a> <a href=\"https://www.skiresort.info/ski-resorts/vermont/\">Vermont</a></div> </div>,\n",
       " <div class=\"sub-breadcrumb\"><a href=\"https://www.skiresort.info/ski-resorts/north-america/\">North America</a> <a href=\"https://www.skiresort.info/ski-resorts/usa/\">USA</a> <a href=\"https://www.skiresort.info/ski-resorts/vermont/\">Vermont</a></div>,\n",
       " <div class=\"sub-breadcrumb\"> <div class=\"sub-breadcrumb\"><a href=\"https://www.skiresort.info/ski-resorts/north-america/\">North America</a> <a href=\"https://www.skiresort.info/ski-resorts/usa/\">USA</a> <a href=\"https://www.skiresort.info/ski-resorts/maine/\">Maine</a></div> </div>,\n",
       " <div class=\"sub-breadcrumb\"><a href=\"https://www.skiresort.info/ski-resorts/north-america/\">North America</a> <a href=\"https://www.skiresort.info/ski-resorts/usa/\">USA</a> <a href=\"https://www.skiresort.info/ski-resorts/maine/\">Maine</a></div>,\n",
       " <div class=\"sub-breadcrumb\"> <div class=\"sub-breadcrumb\"><a href=\"https://www.skiresort.info/ski-resorts/north-america/\">North America</a> <a href=\"https://www.skiresort.info/ski-resorts/usa/\">USA</a> <a href=\"https://www.skiresort.info/ski-resorts/vermont/\">Vermont</a></div> </div>,\n",
       " <div class=\"sub-breadcrumb\"><a href=\"https://www.skiresort.info/ski-resorts/north-america/\">North America</a> <a href=\"https://www.skiresort.info/ski-resorts/usa/\">USA</a> <a href=\"https://www.skiresort.info/ski-resorts/vermont/\">Vermont</a></div>,\n",
       " <div class=\"sub-breadcrumb\"> <div class=\"sub-breadcrumb\"><a href=\"https://www.skiresort.info/ski-resorts/north-america/\">North America</a> <a href=\"https://www.skiresort.info/ski-resorts/usa/\">USA</a> <a href=\"https://www.skiresort.info/ski-resorts/new-york/\">New York</a> <a href=\"https://www.skiresort.info/ski-resorts/the-adirondacks/\">The Adirondacks</a></div> </div>,\n",
       " <div class=\"sub-breadcrumb\"><a href=\"https://www.skiresort.info/ski-resorts/north-america/\">North America</a> <a href=\"https://www.skiresort.info/ski-resorts/usa/\">USA</a> <a href=\"https://www.skiresort.info/ski-resorts/new-york/\">New York</a> <a href=\"https://www.skiresort.info/ski-resorts/the-adirondacks/\">The Adirondacks</a></div>,\n",
       " <div class=\"sub-breadcrumb\"> <div class=\"sub-breadcrumb\"><a href=\"https://www.skiresort.info/ski-resorts/north-america/\">North America</a> <a href=\"https://www.skiresort.info/ski-resorts/usa/\">USA</a> <a href=\"https://www.skiresort.info/ski-resorts/vermont/\">Vermont</a></div> </div>,\n",
       " <div class=\"sub-breadcrumb\"><a href=\"https://www.skiresort.info/ski-resorts/north-america/\">North America</a> <a href=\"https://www.skiresort.info/ski-resorts/usa/\">USA</a> <a href=\"https://www.skiresort.info/ski-resorts/vermont/\">Vermont</a></div>,\n",
       " <div class=\"sub-breadcrumb\"> <div class=\"sub-breadcrumb\"><a href=\"https://www.skiresort.info/ski-resorts/north-america/\">North America</a> <a href=\"https://www.skiresort.info/ski-resorts/usa/\">USA</a> <a href=\"https://www.skiresort.info/ski-resorts/vermont/\">Vermont</a></div> </div>,\n",
       " <div class=\"sub-breadcrumb\"><a href=\"https://www.skiresort.info/ski-resorts/north-america/\">North America</a> <a href=\"https://www.skiresort.info/ski-resorts/usa/\">USA</a> <a href=\"https://www.skiresort.info/ski-resorts/vermont/\">Vermont</a></div>,\n",
       " <div class=\"sub-breadcrumb\"> <div class=\"sub-breadcrumb\"><a href=\"https://www.skiresort.info/ski-resorts/north-america/\">North America</a> <a href=\"https://www.skiresort.info/ski-resorts/usa/\">USA</a> <a href=\"https://www.skiresort.info/ski-resorts/maine/\">Maine</a></div> </div>,\n",
       " <div class=\"sub-breadcrumb\"><a href=\"https://www.skiresort.info/ski-resorts/north-america/\">North America</a> <a href=\"https://www.skiresort.info/ski-resorts/usa/\">USA</a> <a href=\"https://www.skiresort.info/ski-resorts/maine/\">Maine</a></div>,\n",
       " <div class=\"sub-breadcrumb\"> <div class=\"sub-breadcrumb\"><a href=\"https://www.skiresort.info/ski-resorts/north-america/\">North America</a> <a href=\"https://www.skiresort.info/ski-resorts/usa/\">USA</a> <a href=\"https://www.skiresort.info/ski-resorts/vermont/\">Vermont</a></div> </div>,\n",
       " <div class=\"sub-breadcrumb\"><a href=\"https://www.skiresort.info/ski-resorts/north-america/\">North America</a> <a href=\"https://www.skiresort.info/ski-resorts/usa/\">USA</a> <a href=\"https://www.skiresort.info/ski-resorts/vermont/\">Vermont</a></div>,\n",
       " <div class=\"sub-breadcrumb\"> <div class=\"sub-breadcrumb\"><a href=\"https://www.skiresort.info/ski-resorts/north-america/\">North America</a> <a href=\"https://www.skiresort.info/ski-resorts/usa/\">USA</a> <a href=\"https://www.skiresort.info/ski-resorts/vermont/\">Vermont</a></div> </div>,\n",
       " <div class=\"sub-breadcrumb\"><a href=\"https://www.skiresort.info/ski-resorts/north-america/\">North America</a> <a href=\"https://www.skiresort.info/ski-resorts/usa/\">USA</a> <a href=\"https://www.skiresort.info/ski-resorts/vermont/\">Vermont</a></div>,\n",
       " <div class=\"sub-breadcrumb\"> <div class=\"sub-breadcrumb\"><a href=\"https://www.skiresort.info/ski-resorts/north-america/\">North America</a> <a href=\"https://www.skiresort.info/ski-resorts/usa/\">USA</a> <a href=\"https://www.skiresort.info/ski-resorts/vermont/\">Vermont</a></div> </div>,\n",
       " <div class=\"sub-breadcrumb\"><a href=\"https://www.skiresort.info/ski-resorts/north-america/\">North America</a> <a href=\"https://www.skiresort.info/ski-resorts/usa/\">USA</a> <a href=\"https://www.skiresort.info/ski-resorts/vermont/\">Vermont</a></div>,\n",
       " <div class=\"sub-breadcrumb\"> <div class=\"sub-breadcrumb\"><a href=\"https://www.skiresort.info/ski-resorts/north-america/\">North America</a> <a href=\"https://www.skiresort.info/ski-resorts/usa/\">USA</a> <a href=\"https://www.skiresort.info/ski-resorts/new-hampshire/\">New Hampshire</a></div> </div>,\n",
       " <div class=\"sub-breadcrumb\"><a href=\"https://www.skiresort.info/ski-resorts/north-america/\">North America</a> <a href=\"https://www.skiresort.info/ski-resorts/usa/\">USA</a> <a href=\"https://www.skiresort.info/ski-resorts/new-hampshire/\">New Hampshire</a></div>,\n",
       " <div class=\"sub-breadcrumb\"> <div class=\"sub-breadcrumb\"><a href=\"https://www.skiresort.info/ski-resorts/north-america/\">North America</a> <a href=\"https://www.skiresort.info/ski-resorts/usa/\">USA</a> <a href=\"https://www.skiresort.info/ski-resorts/vermont/\">Vermont</a></div> </div>,\n",
       " <div class=\"sub-breadcrumb\"><a href=\"https://www.skiresort.info/ski-resorts/north-america/\">North America</a> <a href=\"https://www.skiresort.info/ski-resorts/usa/\">USA</a> <a href=\"https://www.skiresort.info/ski-resorts/vermont/\">Vermont</a></div>,\n",
       " <div class=\"sub-breadcrumb\"> <div class=\"sub-breadcrumb\"><a href=\"https://www.skiresort.info/ski-resorts/north-america/\">North America</a> <a href=\"https://www.skiresort.info/ski-resorts/usa/\">USA</a> <a href=\"https://www.skiresort.info/ski-resorts/vermont/\">Vermont</a></div> </div>,\n",
       " <div class=\"sub-breadcrumb\"><a href=\"https://www.skiresort.info/ski-resorts/north-america/\">North America</a> <a href=\"https://www.skiresort.info/ski-resorts/usa/\">USA</a> <a href=\"https://www.skiresort.info/ski-resorts/vermont/\">Vermont</a></div>,\n",
       " <div class=\"sub-breadcrumb\"> <div class=\"sub-breadcrumb\"><a href=\"https://www.skiresort.info/ski-resorts/north-america/\">North America</a> <a href=\"https://www.skiresort.info/ski-resorts/usa/\">USA</a> <a href=\"https://www.skiresort.info/ski-resorts/new-york/\">New York</a> <a href=\"https://www.skiresort.info/ski-resorts/the-adirondacks/\">The Adirondacks</a></div> </div>,\n",
       " <div class=\"sub-breadcrumb\"><a href=\"https://www.skiresort.info/ski-resorts/north-america/\">North America</a> <a href=\"https://www.skiresort.info/ski-resorts/usa/\">USA</a> <a href=\"https://www.skiresort.info/ski-resorts/new-york/\">New York</a> <a href=\"https://www.skiresort.info/ski-resorts/the-adirondacks/\">The Adirondacks</a></div>,\n",
       " <div class=\"sub-breadcrumb\"> <div class=\"sub-breadcrumb\"><a href=\"https://www.skiresort.info/ski-resorts/north-america/\">North America</a> <a href=\"https://www.skiresort.info/ski-resorts/usa/\">USA</a> <a href=\"https://www.skiresort.info/ski-resorts/new-hampshire/\">New Hampshire</a></div> </div>,\n",
       " <div class=\"sub-breadcrumb\"><a href=\"https://www.skiresort.info/ski-resorts/north-america/\">North America</a> <a href=\"https://www.skiresort.info/ski-resorts/usa/\">USA</a> <a href=\"https://www.skiresort.info/ski-resorts/new-hampshire/\">New Hampshire</a></div>,\n",
       " <div class=\"sub-breadcrumb\"> <div class=\"sub-breadcrumb\"><a href=\"https://www.skiresort.info/ski-resorts/north-america/\">North America</a> <a href=\"https://www.skiresort.info/ski-resorts/usa/\">USA</a> <a href=\"https://www.skiresort.info/ski-resorts/new-york/\">New York</a> <a href=\"https://www.skiresort.info/ski-resorts/the-catskills/\">The Catskills</a></div> </div>,\n",
       " <div class=\"sub-breadcrumb\"><a href=\"https://www.skiresort.info/ski-resorts/north-america/\">North America</a> <a href=\"https://www.skiresort.info/ski-resorts/usa/\">USA</a> <a href=\"https://www.skiresort.info/ski-resorts/new-york/\">New York</a> <a href=\"https://www.skiresort.info/ski-resorts/the-catskills/\">The Catskills</a></div>,\n",
       " <div class=\"sub-breadcrumb\"> <div class=\"sub-breadcrumb\"><a href=\"https://www.skiresort.info/ski-resorts/north-america/\">North America</a> <a href=\"https://www.skiresort.info/ski-resorts/usa/\">USA</a> <a href=\"https://www.skiresort.info/ski-resorts/new-york/\">New York</a> <a href=\"https://www.skiresort.info/ski-resorts/the-catskills/\">The Catskills</a></div> </div>,\n",
       " <div class=\"sub-breadcrumb\"><a href=\"https://www.skiresort.info/ski-resorts/north-america/\">North America</a> <a href=\"https://www.skiresort.info/ski-resorts/usa/\">USA</a> <a href=\"https://www.skiresort.info/ski-resorts/new-york/\">New York</a> <a href=\"https://www.skiresort.info/ski-resorts/the-catskills/\">The Catskills</a></div>,\n",
       " <div class=\"sub-breadcrumb\"> <div class=\"sub-breadcrumb\"><a href=\"https://www.skiresort.info/ski-resorts/north-america/\">North America</a> <a href=\"https://www.skiresort.info/ski-resorts/usa/\">USA</a> <a href=\"https://www.skiresort.info/ski-resorts/new-york/\">New York</a> <a href=\"https://www.skiresort.info/ski-resorts/chautauqua-allegheny/\">Chautauqua-Allegheny</a></div> </div>,\n",
       " <div class=\"sub-breadcrumb\"><a href=\"https://www.skiresort.info/ski-resorts/north-america/\">North America</a> <a href=\"https://www.skiresort.info/ski-resorts/usa/\">USA</a> <a href=\"https://www.skiresort.info/ski-resorts/new-york/\">New York</a> <a href=\"https://www.skiresort.info/ski-resorts/chautauqua-allegheny/\">Chautauqua-Allegheny</a></div>,\n",
       " <div class=\"sub-breadcrumb\"> <div class=\"sub-breadcrumb\"><a href=\"https://www.skiresort.info/ski-resorts/north-america/\">North America</a> <a href=\"https://www.skiresort.info/ski-resorts/usa/\">USA</a> <a href=\"https://www.skiresort.info/ski-resorts/new-hampshire/\">New Hampshire</a></div> </div>,\n",
       " <div class=\"sub-breadcrumb\"><a href=\"https://www.skiresort.info/ski-resorts/north-america/\">North America</a> <a href=\"https://www.skiresort.info/ski-resorts/usa/\">USA</a> <a href=\"https://www.skiresort.info/ski-resorts/new-hampshire/\">New Hampshire</a></div>,\n",
       " <div class=\"sub-breadcrumb\"> <div class=\"sub-breadcrumb\"><a href=\"https://www.skiresort.info/ski-resorts/north-america/\">North America</a> <a href=\"https://www.skiresort.info/ski-resorts/usa/\">USA</a> <a href=\"https://www.skiresort.info/ski-resorts/vermont/\">Vermont</a></div> </div>,\n",
       " <div class=\"sub-breadcrumb\"><a href=\"https://www.skiresort.info/ski-resorts/north-america/\">North America</a> <a href=\"https://www.skiresort.info/ski-resorts/usa/\">USA</a> <a href=\"https://www.skiresort.info/ski-resorts/vermont/\">Vermont</a></div>,\n",
       " <div class=\"sub-breadcrumb\"> <div class=\"sub-breadcrumb\"><a href=\"https://www.skiresort.info/ski-resorts/north-america/\">North America</a> <a href=\"https://www.skiresort.info/ski-resorts/usa/\">USA</a> <a href=\"https://www.skiresort.info/ski-resorts/new-hampshire/\">New Hampshire</a></div> </div>,\n",
       " <div class=\"sub-breadcrumb\"><a href=\"https://www.skiresort.info/ski-resorts/north-america/\">North America</a> <a href=\"https://www.skiresort.info/ski-resorts/usa/\">USA</a> <a href=\"https://www.skiresort.info/ski-resorts/new-hampshire/\">New Hampshire</a></div>,\n",
       " <div class=\"sub-breadcrumb\"> <div class=\"sub-breadcrumb\"><a href=\"https://www.skiresort.info/ski-resorts/north-america/\">North America</a> <a href=\"https://www.skiresort.info/ski-resorts/usa/\">USA</a> <a href=\"https://www.skiresort.info/ski-resorts/vermont/\">Vermont</a></div> </div>,\n",
       " <div class=\"sub-breadcrumb\"><a href=\"https://www.skiresort.info/ski-resorts/north-america/\">North America</a> <a href=\"https://www.skiresort.info/ski-resorts/usa/\">USA</a> <a href=\"https://www.skiresort.info/ski-resorts/vermont/\">Vermont</a></div>,\n",
       " <div class=\"sub-breadcrumb\"> <div class=\"sub-breadcrumb\"><a href=\"https://www.skiresort.info/ski-resorts/north-america/\">North America</a> <a href=\"https://www.skiresort.info/ski-resorts/usa/\">USA</a> <a href=\"https://www.skiresort.info/ski-resorts/new-hampshire/\">New Hampshire</a></div> </div>,\n",
       " <div class=\"sub-breadcrumb\"><a href=\"https://www.skiresort.info/ski-resorts/north-america/\">North America</a> <a href=\"https://www.skiresort.info/ski-resorts/usa/\">USA</a> <a href=\"https://www.skiresort.info/ski-resorts/new-hampshire/\">New Hampshire</a></div>,\n",
       " <div class=\"sub-breadcrumb\"> <div class=\"sub-breadcrumb\"><a href=\"https://www.skiresort.info/ski-resorts/north-america/\">North America</a> <a href=\"https://www.skiresort.info/ski-resorts/usa/\">USA</a> <a href=\"https://www.skiresort.info/ski-resorts/new-hampshire/\">New Hampshire</a></div> </div>,\n",
       " <div class=\"sub-breadcrumb\"><a href=\"https://www.skiresort.info/ski-resorts/north-america/\">North America</a> <a href=\"https://www.skiresort.info/ski-resorts/usa/\">USA</a> <a href=\"https://www.skiresort.info/ski-resorts/new-hampshire/\">New Hampshire</a></div>,\n",
       " <div class=\"sub-breadcrumb\"> <div class=\"sub-breadcrumb\"><a href=\"https://www.skiresort.info/ski-resorts/north-america/\">North America</a> <a href=\"https://www.skiresort.info/ski-resorts/usa/\">USA</a> <a href=\"https://www.skiresort.info/ski-resorts/new-hampshire/\">New Hampshire</a></div> </div>,\n",
       " <div class=\"sub-breadcrumb\"><a href=\"https://www.skiresort.info/ski-resorts/north-america/\">North America</a> <a href=\"https://www.skiresort.info/ski-resorts/usa/\">USA</a> <a href=\"https://www.skiresort.info/ski-resorts/new-hampshire/\">New Hampshire</a></div>,\n",
       " <div class=\"sub-breadcrumb\"> <div class=\"sub-breadcrumb\"><a href=\"https://www.skiresort.info/ski-resorts/north-america/\">North America</a> <a href=\"https://www.skiresort.info/ski-resorts/usa/\">USA</a> <a href=\"https://www.skiresort.info/ski-resorts/new-hampshire/\">New Hampshire</a></div> </div>,\n",
       " <div class=\"sub-breadcrumb\"><a href=\"https://www.skiresort.info/ski-resorts/north-america/\">North America</a> <a href=\"https://www.skiresort.info/ski-resorts/usa/\">USA</a> <a href=\"https://www.skiresort.info/ski-resorts/new-hampshire/\">New Hampshire</a></div>,\n",
       " <div class=\"sub-breadcrumb\"> <div class=\"sub-breadcrumb\"><a href=\"https://www.skiresort.info/ski-resorts/north-america/\">North America</a> <a href=\"https://www.skiresort.info/ski-resorts/usa/\">USA</a> <a href=\"https://www.skiresort.info/ski-resorts/west-virginia/\">West Virginia</a></div> </div>,\n",
       " <div class=\"sub-breadcrumb\"><a href=\"https://www.skiresort.info/ski-resorts/north-america/\">North America</a> <a href=\"https://www.skiresort.info/ski-resorts/usa/\">USA</a> <a href=\"https://www.skiresort.info/ski-resorts/west-virginia/\">West Virginia</a></div>,\n",
       " <div class=\"sub-breadcrumb\"> <div class=\"sub-breadcrumb\"><a href=\"https://www.skiresort.info/ski-resorts/north-america/\">North America</a> <a href=\"https://www.skiresort.info/ski-resorts/usa/\">USA</a> <a href=\"https://www.skiresort.info/ski-resorts/new-hampshire/\">New Hampshire</a></div> </div>,\n",
       " <div class=\"sub-breadcrumb\"><a href=\"https://www.skiresort.info/ski-resorts/north-america/\">North America</a> <a href=\"https://www.skiresort.info/ski-resorts/usa/\">USA</a> <a href=\"https://www.skiresort.info/ski-resorts/new-hampshire/\">New Hampshire</a></div>,\n",
       " <div class=\"sub-breadcrumb\"> <div class=\"sub-breadcrumb\"><a href=\"https://www.skiresort.info/ski-resorts/north-america/\">North America</a> <a href=\"https://www.skiresort.info/ski-resorts/usa/\">USA</a> <a href=\"https://www.skiresort.info/ski-resorts/pennsylvania/\">Pennsylvania</a></div> </div>,\n",
       " <div class=\"sub-breadcrumb\"><a href=\"https://www.skiresort.info/ski-resorts/north-america/\">North America</a> <a href=\"https://www.skiresort.info/ski-resorts/usa/\">USA</a> <a href=\"https://www.skiresort.info/ski-resorts/pennsylvania/\">Pennsylvania</a></div>,\n",
       " <div class=\"sub-breadcrumb\"> <div class=\"sub-breadcrumb\"><a href=\"https://www.skiresort.info/ski-resorts/north-america/\">North America</a> <a href=\"https://www.skiresort.info/ski-resorts/usa/\">USA</a> <a href=\"https://www.skiresort.info/ski-resorts/new-hampshire/\">New Hampshire</a></div> </div>,\n",
       " <div class=\"sub-breadcrumb\"><a href=\"https://www.skiresort.info/ski-resorts/north-america/\">North America</a> <a href=\"https://www.skiresort.info/ski-resorts/usa/\">USA</a> <a href=\"https://www.skiresort.info/ski-resorts/new-hampshire/\">New Hampshire</a></div>,\n",
       " <div class=\"sub-breadcrumb\"> <div class=\"sub-breadcrumb\"><a href=\"https://www.skiresort.info/ski-resorts/north-america/\">North America</a> <a href=\"https://www.skiresort.info/ski-resorts/usa/\">USA</a> <a href=\"https://www.skiresort.info/ski-resorts/new-york/\">New York</a> <a href=\"https://www.skiresort.info/ski-resorts/the-catskills/\">The Catskills</a></div> </div>,\n",
       " <div class=\"sub-breadcrumb\"><a href=\"https://www.skiresort.info/ski-resorts/north-america/\">North America</a> <a href=\"https://www.skiresort.info/ski-resorts/usa/\">USA</a> <a href=\"https://www.skiresort.info/ski-resorts/new-york/\">New York</a> <a href=\"https://www.skiresort.info/ski-resorts/the-catskills/\">The Catskills</a></div>,\n",
       " <div class=\"sub-breadcrumb\"> <div class=\"sub-breadcrumb\"><a href=\"https://www.skiresort.info/ski-resorts/north-america/\">North America</a> <a href=\"https://www.skiresort.info/ski-resorts/usa/\">USA</a> <a href=\"https://www.skiresort.info/ski-resorts/new-jersey/\">New Jersey</a></div> </div>,\n",
       " <div class=\"sub-breadcrumb\"><a href=\"https://www.skiresort.info/ski-resorts/north-america/\">North America</a> <a href=\"https://www.skiresort.info/ski-resorts/usa/\">USA</a> <a href=\"https://www.skiresort.info/ski-resorts/new-jersey/\">New Jersey</a></div>,\n",
       " <div class=\"sub-breadcrumb\"> <div class=\"sub-breadcrumb\"><a href=\"https://www.skiresort.info/ski-resorts/north-america/\">North America</a> <a href=\"https://www.skiresort.info/ski-resorts/usa/\">USA</a> <a href=\"https://www.skiresort.info/ski-resorts/vermont/\">Vermont</a></div> </div>,\n",
       " <div class=\"sub-breadcrumb\"><a href=\"https://www.skiresort.info/ski-resorts/north-america/\">North America</a> <a href=\"https://www.skiresort.info/ski-resorts/usa/\">USA</a> <a href=\"https://www.skiresort.info/ski-resorts/vermont/\">Vermont</a></div>,\n",
       " <div class=\"sub-breadcrumb\"> <div class=\"sub-breadcrumb\"><a href=\"https://www.skiresort.info/ski-resorts/north-america/\">North America</a> <a href=\"https://www.skiresort.info/ski-resorts/usa/\">USA</a> <a href=\"https://www.skiresort.info/ski-resorts/new-york/\">New York</a> <a href=\"https://www.skiresort.info/ski-resorts/finger-lakes/\">Finger Lakes</a></div> </div>,\n",
       " <div class=\"sub-breadcrumb\"><a href=\"https://www.skiresort.info/ski-resorts/north-america/\">North America</a> <a href=\"https://www.skiresort.info/ski-resorts/usa/\">USA</a> <a href=\"https://www.skiresort.info/ski-resorts/new-york/\">New York</a> <a href=\"https://www.skiresort.info/ski-resorts/finger-lakes/\">Finger Lakes</a></div>,\n",
       " <div class=\"sub-breadcrumb\"> <div class=\"sub-breadcrumb\"><a href=\"https://www.skiresort.info/ski-resorts/north-america/\">North America</a> <a href=\"https://www.skiresort.info/ski-resorts/usa/\">USA</a> <a href=\"https://www.skiresort.info/ski-resorts/massachusetts/\">Massachusetts</a></div> </div>,\n",
       " <div class=\"sub-breadcrumb\"><a href=\"https://www.skiresort.info/ski-resorts/north-america/\">North America</a> <a href=\"https://www.skiresort.info/ski-resorts/usa/\">USA</a> <a href=\"https://www.skiresort.info/ski-resorts/massachusetts/\">Massachusetts</a></div>,\n",
       " <div class=\"sub-breadcrumb\"> <div class=\"sub-breadcrumb\"><a href=\"https://www.skiresort.info/ski-resorts/north-america/\">North America</a> <a href=\"https://www.skiresort.info/ski-resorts/usa/\">USA</a> <a href=\"https://www.skiresort.info/ski-resorts/new-hampshire/\">New Hampshire</a></div> </div>,\n",
       " <div class=\"sub-breadcrumb\"><a href=\"https://www.skiresort.info/ski-resorts/north-america/\">North America</a> <a href=\"https://www.skiresort.info/ski-resorts/usa/\">USA</a> <a href=\"https://www.skiresort.info/ski-resorts/new-hampshire/\">New Hampshire</a></div>,\n",
       " <div class=\"sub-breadcrumb\"> <div class=\"sub-breadcrumb\"><a href=\"https://www.skiresort.info/ski-resorts/north-america/\">North America</a> <a href=\"https://www.skiresort.info/ski-resorts/usa/\">USA</a> <a href=\"https://www.skiresort.info/ski-resorts/vermont/\">Vermont</a></div> </div>,\n",
       " <div class=\"sub-breadcrumb\"><a href=\"https://www.skiresort.info/ski-resorts/north-america/\">North America</a> <a href=\"https://www.skiresort.info/ski-resorts/usa/\">USA</a> <a href=\"https://www.skiresort.info/ski-resorts/vermont/\">Vermont</a></div>,\n",
       " <div class=\"sub-breadcrumb\"> <div class=\"sub-breadcrumb\"><a href=\"https://www.skiresort.info/ski-resorts/north-america/\">North America</a> <a href=\"https://www.skiresort.info/ski-resorts/usa/\">USA</a> <a href=\"https://www.skiresort.info/ski-resorts/new-york/\">New York</a> <a href=\"https://www.skiresort.info/ski-resorts/the-adirondacks/\">The Adirondacks</a></div> </div>,\n",
       " <div class=\"sub-breadcrumb\"><a href=\"https://www.skiresort.info/ski-resorts/north-america/\">North America</a> <a href=\"https://www.skiresort.info/ski-resorts/usa/\">USA</a> <a href=\"https://www.skiresort.info/ski-resorts/new-york/\">New York</a> <a href=\"https://www.skiresort.info/ski-resorts/the-adirondacks/\">The Adirondacks</a></div>,\n",
       " <div class=\"sub-breadcrumb\"> <div class=\"sub-breadcrumb\"><a href=\"https://www.skiresort.info/ski-resorts/north-america/\">North America</a> <a href=\"https://www.skiresort.info/ski-resorts/usa/\">USA</a> <a href=\"https://www.skiresort.info/ski-resorts/north-carolina/\">North Carolina</a></div> </div>,\n",
       " <div class=\"sub-breadcrumb\"><a href=\"https://www.skiresort.info/ski-resorts/north-america/\">North America</a> <a href=\"https://www.skiresort.info/ski-resorts/usa/\">USA</a> <a href=\"https://www.skiresort.info/ski-resorts/north-carolina/\">North Carolina</a></div>,\n",
       " <div class=\"sub-breadcrumb\"> <div class=\"sub-breadcrumb\"><a href=\"https://www.skiresort.info/ski-resorts/north-america/\">North America</a> <a href=\"https://www.skiresort.info/ski-resorts/usa/\">USA</a> <a href=\"https://www.skiresort.info/ski-resorts/maine/\">Maine</a></div> </div>,\n",
       " <div class=\"sub-breadcrumb\"><a href=\"https://www.skiresort.info/ski-resorts/north-america/\">North America</a> <a href=\"https://www.skiresort.info/ski-resorts/usa/\">USA</a> <a href=\"https://www.skiresort.info/ski-resorts/maine/\">Maine</a></div>,\n",
       " <div class=\"sub-breadcrumb\"> <div class=\"sub-breadcrumb\"><a href=\"https://www.skiresort.info/ski-resorts/north-america/\">North America</a> <a href=\"https://www.skiresort.info/ski-resorts/usa/\">USA</a> <a href=\"https://www.skiresort.info/ski-resorts/new-york/\">New York</a> <a href=\"https://www.skiresort.info/ski-resorts/chautauqua-allegheny/\">Chautauqua-Allegheny</a></div> </div>,\n",
       " <div class=\"sub-breadcrumb\"><a href=\"https://www.skiresort.info/ski-resorts/north-america/\">North America</a> <a href=\"https://www.skiresort.info/ski-resorts/usa/\">USA</a> <a href=\"https://www.skiresort.info/ski-resorts/new-york/\">New York</a> <a href=\"https://www.skiresort.info/ski-resorts/chautauqua-allegheny/\">Chautauqua-Allegheny</a></div>,\n",
       " <div class=\"sub-breadcrumb\"> <div class=\"sub-breadcrumb\"><a href=\"https://www.skiresort.info/ski-resorts/north-america/\">North America</a> <a href=\"https://www.skiresort.info/ski-resorts/usa/\">USA</a> <a href=\"https://www.skiresort.info/ski-resorts/maine/\">Maine</a></div> </div>,\n",
       " <div class=\"sub-breadcrumb\"><a href=\"https://www.skiresort.info/ski-resorts/north-america/\">North America</a> <a href=\"https://www.skiresort.info/ski-resorts/usa/\">USA</a> <a href=\"https://www.skiresort.info/ski-resorts/maine/\">Maine</a></div>,\n",
       " <div class=\"sub-breadcrumb\"> <div class=\"sub-breadcrumb\"><a href=\"https://www.skiresort.info/ski-resorts/north-america/\">North America</a> <a href=\"https://www.skiresort.info/ski-resorts/usa/\">USA</a> <a href=\"https://www.skiresort.info/ski-resorts/massachusetts/\">Massachusetts</a></div> </div>,\n",
       " <div class=\"sub-breadcrumb\"><a href=\"https://www.skiresort.info/ski-resorts/north-america/\">North America</a> <a href=\"https://www.skiresort.info/ski-resorts/usa/\">USA</a> <a href=\"https://www.skiresort.info/ski-resorts/massachusetts/\">Massachusetts</a></div>,\n",
       " <div class=\"sub-breadcrumb\"> <div class=\"sub-breadcrumb\"><a href=\"https://www.skiresort.info/ski-resorts/north-america/\">North America</a> <a href=\"https://www.skiresort.info/ski-resorts/usa/\">USA</a> <a href=\"https://www.skiresort.info/ski-resorts/pennsylvania/\">Pennsylvania</a></div> </div>,\n",
       " <div class=\"sub-breadcrumb\"><a href=\"https://www.skiresort.info/ski-resorts/north-america/\">North America</a> <a href=\"https://www.skiresort.info/ski-resorts/usa/\">USA</a> <a href=\"https://www.skiresort.info/ski-resorts/pennsylvania/\">Pennsylvania</a></div>,\n",
       " <div class=\"sub-breadcrumb\"> <div class=\"sub-breadcrumb\"><a href=\"https://www.skiresort.info/ski-resorts/north-america/\">North America</a> <a href=\"https://www.skiresort.info/ski-resorts/usa/\">USA</a> <a href=\"https://www.skiresort.info/ski-resorts/vermont/\">Vermont</a></div> </div>,\n",
       " <div class=\"sub-breadcrumb\"><a href=\"https://www.skiresort.info/ski-resorts/north-america/\">North America</a> <a href=\"https://www.skiresort.info/ski-resorts/usa/\">USA</a> <a href=\"https://www.skiresort.info/ski-resorts/vermont/\">Vermont</a></div>,\n",
       " <div class=\"sub-breadcrumb\"> <div class=\"sub-breadcrumb\"><a href=\"https://www.skiresort.info/ski-resorts/north-america/\">North America</a> <a href=\"https://www.skiresort.info/ski-resorts/usa/\">USA</a> <a href=\"https://www.skiresort.info/ski-resorts/maine/\">Maine</a></div> </div>,\n",
       " <div class=\"sub-breadcrumb\"><a href=\"https://www.skiresort.info/ski-resorts/north-america/\">North America</a> <a href=\"https://www.skiresort.info/ski-resorts/usa/\">USA</a> <a href=\"https://www.skiresort.info/ski-resorts/maine/\">Maine</a></div>,\n",
       " <div class=\"sub-breadcrumb\"> <div class=\"sub-breadcrumb\"><a href=\"https://www.skiresort.info/ski-resorts/north-america/\">North America</a> <a href=\"https://www.skiresort.info/ski-resorts/usa/\">USA</a> <a href=\"https://www.skiresort.info/ski-resorts/virginia/\">Virginia</a></div> </div>,\n",
       " <div class=\"sub-breadcrumb\"><a href=\"https://www.skiresort.info/ski-resorts/north-america/\">North America</a> <a href=\"https://www.skiresort.info/ski-resorts/usa/\">USA</a> <a href=\"https://www.skiresort.info/ski-resorts/virginia/\">Virginia</a></div>,\n",
       " <div class=\"sub-breadcrumb\"> <div class=\"sub-breadcrumb\"><a href=\"https://www.skiresort.info/ski-resorts/north-america/\">North America</a> <a href=\"https://www.skiresort.info/ski-resorts/usa/\">USA</a> <a href=\"https://www.skiresort.info/ski-resorts/new-york/\">New York</a> <a href=\"https://www.skiresort.info/ski-resorts/finger-lakes/\">Finger Lakes</a></div> </div>,\n",
       " <div class=\"sub-breadcrumb\"><a href=\"https://www.skiresort.info/ski-resorts/north-america/\">North America</a> <a href=\"https://www.skiresort.info/ski-resorts/usa/\">USA</a> <a href=\"https://www.skiresort.info/ski-resorts/new-york/\">New York</a> <a href=\"https://www.skiresort.info/ski-resorts/finger-lakes/\">Finger Lakes</a></div>,\n",
       " <div class=\"sub-breadcrumb\"> <div class=\"sub-breadcrumb\"><a href=\"https://www.skiresort.info/ski-resorts/north-america/\">North America</a> <a href=\"https://www.skiresort.info/ski-resorts/usa/\">USA</a> <a href=\"https://www.skiresort.info/ski-resorts/pennsylvania/\">Pennsylvania</a></div> </div>,\n",
       " <div class=\"sub-breadcrumb\"><a href=\"https://www.skiresort.info/ski-resorts/north-america/\">North America</a> <a href=\"https://www.skiresort.info/ski-resorts/usa/\">USA</a> <a href=\"https://www.skiresort.info/ski-resorts/pennsylvania/\">Pennsylvania</a></div>,\n",
       " <div class=\"sub-breadcrumb\"> <div class=\"sub-breadcrumb\"><a href=\"https://www.skiresort.info/ski-resorts/north-america/\">North America</a> <a href=\"https://www.skiresort.info/ski-resorts/usa/\">USA</a> <a href=\"https://www.skiresort.info/ski-resorts/maryland/\">Maryland</a></div> </div>,\n",
       " <div class=\"sub-breadcrumb\"><a href=\"https://www.skiresort.info/ski-resorts/north-america/\">North America</a> <a href=\"https://www.skiresort.info/ski-resorts/usa/\">USA</a> <a href=\"https://www.skiresort.info/ski-resorts/maryland/\">Maryland</a></div>]"
      ]
     },
     "execution_count": 20,
     "metadata": {},
     "output_type": "execute_result"
    }
   ],
   "source": [
    "resort_locations"
   ]
  },
  {
   "cell_type": "code",
   "execution_count": 21,
   "metadata": {},
   "outputs": [
    {
     "data": {
      "text/plain": [
       "'North America USA Vermont'"
      ]
     },
     "execution_count": 21,
     "metadata": {},
     "output_type": "execute_result"
    }
   ],
   "source": [
    "resort_locations[1].text"
   ]
  },
  {
   "cell_type": "code",
   "execution_count": 22,
   "metadata": {},
   "outputs": [
    {
     "data": {
      "text/plain": [
       "' North America USA Vermont '"
      ]
     },
     "execution_count": 22,
     "metadata": {},
     "output_type": "execute_result"
    }
   ],
   "source": [
    "resort_locations[0].text"
   ]
  },
  {
   "cell_type": "code",
   "execution_count": 23,
   "metadata": {},
   "outputs": [],
   "source": [
    "resort_info2 = contents_div2.find_all('table', class_='info-table')"
   ]
  },
  {
   "cell_type": "code",
   "execution_count": 27,
   "metadata": {},
   "outputs": [],
   "source": [
    "resort_info = contents_div.find_all('table', class_='info-table')"
   ]
  },
  {
   "cell_type": "code",
   "execution_count": 29,
   "metadata": {},
   "outputs": [
    {
     "data": {
      "text/plain": [
       "134"
      ]
     },
     "execution_count": 29,
     "metadata": {},
     "output_type": "execute_result"
    }
   ],
   "source": [
    "len(resort_info2)"
   ]
  },
  {
   "cell_type": "code",
   "execution_count": 30,
   "metadata": {},
   "outputs": [],
   "source": [
    "row_one = resort_info[0].text"
   ]
  },
  {
   "cell_type": "code",
   "execution_count": 31,
   "metadata": {},
   "outputs": [
    {
     "data": {
      "text/plain": [
       "'      Test result      938 m (355 m - 1293 m)     116.8 km 19.9 km 46.7 km 50.2 km       19 ski lifts      US$ 130,- / approx. € 110,-  '"
      ]
     },
     "execution_count": 31,
     "metadata": {},
     "output_type": "execute_result"
    }
   ],
   "source": [
    "row_one"
   ]
  },
  {
   "cell_type": "code",
   "execution_count": 32,
   "metadata": {},
   "outputs": [],
   "source": [
    "row_one_split = row_one.split('     ')[2:]"
   ]
  },
  {
   "cell_type": "code",
   "execution_count": 33,
   "metadata": {},
   "outputs": [
    {
     "data": {
      "text/plain": [
       "[' 938 m (355 m - 1293 m)',\n",
       " '116.8 km 19.9 km 46.7 km 50.2 km',\n",
       " '  19 ski lifts',\n",
       " ' US$ 130,- / approx. € 110,-  ']"
      ]
     },
     "execution_count": 33,
     "metadata": {},
     "output_type": "execute_result"
    }
   ],
   "source": [
    "row_one_split"
   ]
  },
  {
   "cell_type": "code",
   "execution_count": 34,
   "metadata": {},
   "outputs": [
    {
     "data": {
      "text/plain": [
       "[' 938 ', ' (355 ', ' - 1293 ', ')']"
      ]
     },
     "execution_count": 34,
     "metadata": {},
     "output_type": "execute_result"
    }
   ],
   "source": [
    "row_one_split[0].split('m')"
   ]
  },
  {
   "cell_type": "code",
   "execution_count": 35,
   "metadata": {},
   "outputs": [
    {
     "data": {
      "text/plain": [
       "['116.8 ', ' 19.9 ', ' 46.7 ', ' 50.2 ', '']"
      ]
     },
     "execution_count": 35,
     "metadata": {},
     "output_type": "execute_result"
    }
   ],
   "source": [
    "row_one_split[1].split('km')"
   ]
  },
  {
   "cell_type": "code",
   "execution_count": 36,
   "metadata": {},
   "outputs": [
    {
     "data": {
      "text/plain": [
       "[' US$ 130', '- / approx. € 110', '-  ']"
      ]
     },
     "execution_count": 36,
     "metadata": {},
     "output_type": "execute_result"
    }
   ],
   "source": [
    "row_one_split[3].split(',')"
   ]
  },
  {
   "cell_type": "code",
   "execution_count": 37,
   "metadata": {},
   "outputs": [
    {
     "data": {
      "text/plain": [
       "['',\n",
       " '  Test result',\n",
       " '  938 m (355 m - 1293 m)',\n",
       " ' 116.8 km 19.9 km 46.7 km 50.2 km',\n",
       " '   19 ski lifts',\n",
       " '  US$ 130,- / approx. € 110,-  ']"
      ]
     },
     "execution_count": 37,
     "metadata": {},
     "output_type": "execute_result"
    }
   ],
   "source": [
    "row_one.split('    ')"
   ]
  },
  {
   "cell_type": "code",
   "execution_count": 38,
   "metadata": {},
   "outputs": [],
   "source": [
    "locations = []\n",
    "for i in range(len(resort_names)):\n",
    "    locations.append(resort_locations[i*2].text)"
   ]
  },
  {
   "cell_type": "code",
   "execution_count": 39,
   "metadata": {},
   "outputs": [],
   "source": [
    "locations2 = []\n",
    "for i in range(len(resort_names2)):\n",
    "    locations2.append(resort_locations2[i*2].text)"
   ]
  },
  {
   "cell_type": "code",
   "execution_count": 40,
   "metadata": {},
   "outputs": [
    {
     "data": {
      "text/plain": [
       "[' North America USA Vermont ',\n",
       " ' North America USA Maine ',\n",
       " ' North America USA Vermont ',\n",
       " ' North America USA New York The Adirondacks ',\n",
       " ' North America USA Vermont ',\n",
       " ' North America USA Vermont ',\n",
       " ' North America USA Maine ',\n",
       " ' North America USA Vermont ',\n",
       " ' North America USA Vermont ',\n",
       " ' North America USA Vermont ',\n",
       " ' North America USA New Hampshire ',\n",
       " ' North America USA Vermont ',\n",
       " ' North America USA Vermont ',\n",
       " ' North America USA New York The Adirondacks ',\n",
       " ' North America USA New Hampshire ',\n",
       " ' North America USA New York The Catskills ',\n",
       " ' North America USA New York The Catskills ',\n",
       " ' North America USA New York Chautauqua-Allegheny ',\n",
       " ' North America USA New Hampshire ',\n",
       " ' North America USA Vermont ',\n",
       " ' North America USA New Hampshire ',\n",
       " ' North America USA Vermont ',\n",
       " ' North America USA New Hampshire ',\n",
       " ' North America USA New Hampshire ',\n",
       " ' North America USA New Hampshire ',\n",
       " ' North America USA New Hampshire ',\n",
       " ' North America USA West Virginia ',\n",
       " ' North America USA New Hampshire ',\n",
       " ' North America USA Pennsylvania ',\n",
       " ' North America USA New Hampshire ',\n",
       " ' North America USA New York The Catskills ',\n",
       " ' North America USA New Jersey ',\n",
       " ' North America USA Vermont ',\n",
       " ' North America USA New York Finger Lakes ',\n",
       " ' North America USA Massachusetts ',\n",
       " ' North America USA New Hampshire ',\n",
       " ' North America USA Vermont ',\n",
       " ' North America USA New York The Adirondacks ',\n",
       " ' North America USA North Carolina ',\n",
       " ' North America USA Maine ',\n",
       " ' North America USA New York Chautauqua-Allegheny ',\n",
       " ' North America USA Maine ',\n",
       " ' North America USA Massachusetts ',\n",
       " ' North America USA Pennsylvania ',\n",
       " ' North America USA Vermont ',\n",
       " ' North America USA Maine ',\n",
       " ' North America USA Virginia ',\n",
       " ' North America USA New York Finger Lakes ',\n",
       " ' North America USA Pennsylvania ',\n",
       " ' North America USA Maryland ']"
      ]
     },
     "execution_count": 40,
     "metadata": {},
     "output_type": "execute_result"
    }
   ],
   "source": [
    "locations"
   ]
  },
  {
   "cell_type": "code",
   "execution_count": 41,
   "metadata": {},
   "outputs": [],
   "source": [
    "names = []\n",
    "for i in range(len(resort_names)):\n",
    "    names.append(resort_names[i].text)"
   ]
  },
  {
   "cell_type": "code",
   "execution_count": 42,
   "metadata": {},
   "outputs": [],
   "source": [
    "names2 = []\n",
    "for i in range(len(resort_names2)):\n",
    "    names2.append(resort_names2[i].text)"
   ]
  },
  {
   "cell_type": "code",
   "execution_count": 43,
   "metadata": {},
   "outputs": [
    {
     "data": {
      "text/plain": [
       "[' Killington ',\n",
       " ' Sunday River ',\n",
       " ' Stowe ',\n",
       " ' Whiteface – Lake Placid ',\n",
       " ' Stratton ',\n",
       " ' Sugarbush ',\n",
       " ' Sugarloaf ',\n",
       " ' Okemo ',\n",
       " ' Bolton Valley ',\n",
       " ' Jay Peak ',\n",
       " ' Bretton Woods ',\n",
       " ' Mount Snow ',\n",
       " \" Smugglers' Notch \",\n",
       " ' Gore Mountain ',\n",
       " ' Loon Mountain ',\n",
       " ' Hunter Mountain ',\n",
       " ' Windham Mountain ',\n",
       " ' Holiday Valley ',\n",
       " ' Cannon Mountain ',\n",
       " ' Pico Mountain ',\n",
       " ' Gunstock ',\n",
       " ' Mad River Glen ',\n",
       " ' Cranmore Mountain Resort ',\n",
       " ' Attitash Mountain Resort ',\n",
       " ' Mt. Sunapee ',\n",
       " ' Ragged Mountain ',\n",
       " ' Snowshoe Mountain ',\n",
       " ' Wildcat Mountain ',\n",
       " ' Camelback ',\n",
       " ' Waterville Valley ',\n",
       " ' Belleayre Mountain ',\n",
       " ' Mountain Creek – Vernon ',\n",
       " ' Haystack Mountain – The Hermitage Club ',\n",
       " ' Bristol Mountain ',\n",
       " ' Wachusett Mountain ',\n",
       " ' Pats Peak ',\n",
       " ' Magic Mountain ',\n",
       " ' Titus Mountain ',\n",
       " ' Sugar Mountain ',\n",
       " ' Saddleback ',\n",
       " ' Holimont ',\n",
       " ' Shawnee Peak ',\n",
       " ' Butternut ',\n",
       " ' Seven Springs ',\n",
       " ' Burke Mountain ',\n",
       " ' Bigrock Mountain ',\n",
       " ' Wintergreen Resort ',\n",
       " ' Greek Peak ',\n",
       " ' Shawnee Mountain ',\n",
       " ' Wisp – McHenry (Deep Creek Lake) ']"
      ]
     },
     "execution_count": 43,
     "metadata": {},
     "output_type": "execute_result"
    }
   ],
   "source": [
    "names"
   ]
  },
  {
   "cell_type": "code",
   "execution_count": 44,
   "metadata": {},
   "outputs": [],
   "source": [
    "info = []\n",
    "for i in range(len(resort_info)):\n",
    "    info.append(resort_info[i].text)"
   ]
  },
  {
   "cell_type": "code",
   "execution_count": 45,
   "metadata": {},
   "outputs": [],
   "source": [
    "info2 = []\n",
    "for i in range(len(resort_info2)):\n",
    "    info2.append(resort_info2[i].text)"
   ]
  },
  {
   "cell_type": "code",
   "execution_count": 46,
   "metadata": {
    "scrolled": true
   },
   "outputs": [
    {
     "data": {
      "text/plain": [
       "['      Test result      938 m (355 m - 1293 m)     116.8 km 19.9 km 46.7 km 50.2 km       19 ski lifts      US$ 130,- / approx. € 110,-  ',\n",
       " '      Test result      707 m (250 m - 957 m)     84.8 km 25.5 km 30.5 km 28.8 km       15 ski lifts      US$ 109,- / approx. € 92,-  ',\n",
       " '      Test result      726 m (390 m - 1116 m)     70 km 20 km 42 km 8 km       10 ski lifts      US$ 149,- / approx. € 126,-  ',\n",
       " '      Test result      969 m (371 m - 1340 m)     37 km 12.8 km 15.9 km 8.3 km       10 ski lifts      US$ 104,- / approx. € 88,-  ',\n",
       " '      Evaluation      581 m (600 m - 1181 m)     92 km 60 km 20 km 12 km       11 ski lifts      US$ 125,- / approx. € 105,-  ',\n",
       " '      Evaluation      788 m (452 m - 1240 m)     85 km 17 km 38 km 30 km       13 ski lifts      US$ 119,- / approx. € 100,-  ',\n",
       " '      Evaluation      860 m (426 m - 1286 m)     87 km 20 km 30 km 37 km       12 ski lifts      US$ 105,- / approx. € 89,-  ',\n",
       " '      Evaluation      671 m (348 m - 1019 m)     70 km 22 km 26 km 22 km       14 ski lifts      US$ 125,- / approx. € 105,-  ',\n",
       " '      Test result      520 m (440 m - 960 m)     30 km 15 km 10 km 5 km       6 ski lifts      US$ 84,- / approx. € 71,-  ',\n",
       " '      Evaluation      612 m (563 m - 1175 m)     76 km 15 km 31 km 30 km       7 ski lifts      US$ 89,- / approx. € 75,-  ',\n",
       " '      Evaluation      457 m (488 m - 945 m)     56 km 25 km 16 km 15 km       8 ski lifts      US$ 104,- / approx. € 88,-  ',\n",
       " '      Evaluation      510 m (585 m - 1095 m)     60 km 6 km 46 km 8 km       15 ski lifts      US$ 110,- / approx. € 93,-  ',\n",
       " '      Evaluation      798 m (314 m - 1112 m)     78 km 13 km 41 km 24 km       8 ski lifts      US$ 88,- / approx. € 74,-  ',\n",
       " '      Evaluation      793 m (304 m - 1097 m)     58.2 km 6.7 km 28.2 km 23.3 km       12 ski lifts      US$ 94,- / approx. € 79,-  ',\n",
       " '      Evaluation      630 m (300 m - 930 m)     45 km 13 km 26 km 6 km       10 ski lifts      US$ 104,- / approx. € 88,-  ',\n",
       " '      Evaluation      488 m (487 m - 975 m)     55 km 18 km 18 km 19 km       12 ski lifts      US$ 91,- / approx. € 77,-  ',\n",
       " '      Evaluation      487 m (458 m - 945 m)     46 km 20 km 16 km 10 km       7 ski lifts      US$ 98,- / approx. € 83,-  ',\n",
       " '      Evaluation      228 m (457 m - 685 m)     48 km 16 km 13 km 19 km       13 ski lifts      US$ 85,- / approx. € 72,-  ',\n",
       " '      Evaluation      644 m (599 m - 1243 m)     50 km 15 km 25 km 10 km       11 ski lifts      US$ 79,- / approx. € 67,-  ',\n",
       " '      Evaluation      599 m (610 m - 1209 m)     30.4 km 5.4 km 14 km 11 km       7 ski lifts      US$ 85,- / approx. € 72,-  ',\n",
       " '      Evaluation      426 m (264 m - 690 m)     40 km 5 km 25 km 10 km       6 ski lifts      US$ 92,- / approx. € 78,-  ',\n",
       " '      Evaluation      621 m (487 m - 1108 m)     46 km 14 km 17 km 15 km       4 ski lifts      US$ 92,- / approx. € 78,-  ',\n",
       " '      Evaluation      342 m (267 m - 609 m)     43 km 16 km 19 km 8 km       6 ski lifts      US$ 89,- / approx. € 75,-  ',\n",
       " '      Evaluation      533 m (183 m - 716 m)     37 km 7.4 km 17.4 km 12.2 km       8 ski lifts      US$ 89,- / approx. € 75,-  ',\n",
       " '      Evaluation      443 m (385 m - 828 m)     30 km 8 km 16 km 6 km       8 ski lifts      US$ 99,- / approx. € 84,-  ',\n",
       " '      Evaluation      340 m (340 m - 680 m)     22.5 km 4.5 km 10 km 8 km       4 ski lifts      US$ 84,- / approx. € 71,-  ',\n",
       " '      Evaluation      478 m (1000 m - 1478 m)     31 km 14 km 11 km 6 km       12 ski lifts      US$ 119,- / approx. € 100,-  ',\n",
       " '      Evaluation      644 m (594 m - 1238 m)     25 km 5.2 km 12.1 km 7.7 km       4 ski lifts      US$ 89,- / approx. € 75,-  ',\n",
       " '      Evaluation      243 m (380 m - 623 m)     34 km 20 km 11 km 3 km       10 ski lifts      US$ 70,- / approx. € 59,-  ',\n",
       " '      Evaluation      615 m (605 m - 1220 m)     25 km 3.5 km 16 km 5.5 km       9 ski lifts      US$ 96,- / approx. € 81,-  ',\n",
       " '      Evaluation      428 m (617 m - 1045 m)     20 km 5 km 11 km 4 km       5 ski lifts      US$ 80,- / approx. € 68,-  ',\n",
       " '      Evaluation      317 m (134 m - 451 m)     24 km 4 km 14 km 6 km       7 ski lifts      US$ 79.99 / approx. € 68,-  ',\n",
       " '      Evaluation      425 m (550 m - 975 m)     19.3 km 5.6 km 9.5 km 4.2 km       5 ski lifts    ',\n",
       " '      Evaluation      366 m (304 m - 670 m)     20 km 6 km 10 km 4 km       5 ski lifts      US$ 79,- / approx. € 67,-  ',\n",
       " '      Evaluation      305 m (306 m - 611 m)     12 km 3.6 km 4.8 km 3.6 km       4 ski lifts      US$ 71,- / approx. € 60,-  ',\n",
       " '      Evaluation      246 m (180 m - 426 m)     33 km 10 km 8 km 15 km       9 ski lifts      US$ 72,- / approx. € 61,-  ',\n",
       " '      Evaluation      518 m (350 m - 868 m)     23 km 7 km 7 km 9 km       5 ski lifts      US$ 74,- / approx. € 62,-  ',\n",
       " '      Evaluation      365 m (58 m - 423 m)     27 km 10 km 10 km 7 km       10 ski lifts      US$ 49,- / approx. € 41,-  ',\n",
       " '      Evaluation      340 m (1249 m - 1589 m)     14 km 4 km 7 km 3 km       7 ski lifts      US$ 75,- / approx. € 63,-  ',\n",
       " '      Evaluation      574 m (646 m - 1220 m)     22 km 4 km 8 km 10 km       5 ski lifts      US$ 69,- / approx. € 58,-  ',\n",
       " '      Evaluation      214 m (475 m - 689 m)     20 km 4 km 6 km 10 km       8 ski lifts      US$ 75,- / approx. € 63,-  ',\n",
       " '      Evaluation      390 m (160 m - 550 m)     23 km 4 km 12 km 7 km       4 ski lifts      US$ 75,- / approx. € 63,-  ',\n",
       " '      Evaluation      290 m (250 m - 540 m)     22 km 4.4 km 13.2 km 4.4 km       6 ski lifts      US$ 65,- / approx. € 55,-  ',\n",
       " '      Evaluation      225 m (690 m - 915 m)     17 km 6 km 7 km 4 km       10 ski lifts      US$ 89,- / approx. € 75,-  ',\n",
       " '      Evaluation      604 m (371 m - 975 m)     10 km 2 km 4 km 4 km       5 ski lifts      US$ 73,- / approx. € 62,-  ',\n",
       " '      Evaluation      298 m (200 m - 498 m)     20 km 2 km 14 km 4 km       2 ski lifts      US$ 40,- / approx. € 34,-  ',\n",
       " '      Evaluation      305 m (766 m - 1071 m)     10 km 2 km 4 km 4 km       5 ski lifts      US$ 89,- / approx. € 75,-  ',\n",
       " '      Evaluation      290 m (350 m - 640 m)     19 km 9 km 4 km 6 km       6 ski lifts      US$ 84,- / approx. € 71,-  ',\n",
       " '      Evaluation      205 m (145 m - 350 m)     18 km 4 km 9 km 5 km       6 ski lifts      US$ 65,- / approx. € 55,-  ',\n",
       " '      Evaluation      214 m (736 m - 950 m)     16 km 5.6 km 6.1 km 4.3 km       8 ski lifts      US$ 89,- / approx. € 75,-  ']"
      ]
     },
     "execution_count": 46,
     "metadata": {},
     "output_type": "execute_result"
    }
   ],
   "source": [
    "info"
   ]
  },
  {
   "cell_type": "code",
   "execution_count": 47,
   "metadata": {},
   "outputs": [],
   "source": [
    "import pandas as pd"
   ]
  },
  {
   "cell_type": "code",
   "execution_count": 48,
   "metadata": {},
   "outputs": [],
   "source": [
    "resort_lists = [names, locations, info]\n",
    "resort_data = pd.DataFrame(resort_lists)"
   ]
  },
  {
   "cell_type": "code",
   "execution_count": 49,
   "metadata": {},
   "outputs": [],
   "source": [
    "resort_lists2 = [names2, locations2, info2]\n",
    "resort_data2 = pd.DataFrame(resort_lists2)"
   ]
  },
  {
   "cell_type": "code",
   "execution_count": 50,
   "metadata": {},
   "outputs": [],
   "source": [
    "resort_data = resort_data.T"
   ]
  },
  {
   "cell_type": "code",
   "execution_count": 51,
   "metadata": {},
   "outputs": [],
   "source": [
    "resort_data2 = resort_data2.T"
   ]
  },
  {
   "cell_type": "code",
   "execution_count": 52,
   "metadata": {},
   "outputs": [],
   "source": [
    "resort_data.rename(columns={0:'Resort_Name', 1:'Location', 2:'Info'}, inplace=True)"
   ]
  },
  {
   "cell_type": "code",
   "execution_count": 53,
   "metadata": {},
   "outputs": [],
   "source": [
    "resort_data2.rename(columns={0:'Resort_Name', 1:'Location', 2:'Info'}, inplace=True)"
   ]
  },
  {
   "cell_type": "code",
   "execution_count": 54,
   "metadata": {},
   "outputs": [
    {
     "data": {
      "text/html": [
       "<div>\n",
       "<style scoped>\n",
       "    .dataframe tbody tr th:only-of-type {\n",
       "        vertical-align: middle;\n",
       "    }\n",
       "\n",
       "    .dataframe tbody tr th {\n",
       "        vertical-align: top;\n",
       "    }\n",
       "\n",
       "    .dataframe thead th {\n",
       "        text-align: right;\n",
       "    }\n",
       "</style>\n",
       "<table border=\"1\" class=\"dataframe\">\n",
       "  <thead>\n",
       "    <tr style=\"text-align: right;\">\n",
       "      <th></th>\n",
       "      <th>Resort_Name</th>\n",
       "      <th>Location</th>\n",
       "      <th>Info</th>\n",
       "    </tr>\n",
       "  </thead>\n",
       "  <tbody>\n",
       "    <tr>\n",
       "      <th>0</th>\n",
       "      <td>Timberline Four Seasons</td>\n",
       "      <td>North America USA West Virginia</td>\n",
       "      <td>Evaluation      305 m (996 m - 1301 m)  ...</td>\n",
       "    </tr>\n",
       "    <tr>\n",
       "      <th>1</th>\n",
       "      <td>Kissing Bridge</td>\n",
       "      <td>North America USA New York Greater Niagara</td>\n",
       "      <td>Evaluation      142 m (378 m - 520 m)   ...</td>\n",
       "    </tr>\n",
       "    <tr>\n",
       "      <th>2</th>\n",
       "      <td>Blue Knob</td>\n",
       "      <td>North America USA Pennsylvania</td>\n",
       "      <td>Evaluation      326 m (634 m - 960 m)   ...</td>\n",
       "    </tr>\n",
       "    <tr>\n",
       "      <th>3</th>\n",
       "      <td>Plattekill</td>\n",
       "      <td>North America USA New York The Catskills</td>\n",
       "      <td>Evaluation      318 m (696 m - 1014 m)  ...</td>\n",
       "    </tr>\n",
       "    <tr>\n",
       "      <th>4</th>\n",
       "      <td>Labrador Mountain</td>\n",
       "      <td>North America USA New York Finger Lakes</td>\n",
       "      <td>Evaluation      210 m (360 m - 570 m)   ...</td>\n",
       "    </tr>\n",
       "    <tr>\n",
       "      <th>...</th>\n",
       "      <td>...</td>\n",
       "      <td>...</td>\n",
       "      <td>...</td>\n",
       "    </tr>\n",
       "    <tr>\n",
       "      <th>129</th>\n",
       "      <td>Dynamite Hill – Chestertown</td>\n",
       "      <td>North America USA New York The Adirondacks</td>\n",
       "      <td>Evaluation      28 m (253 m - 281 m)    ...</td>\n",
       "    </tr>\n",
       "    <tr>\n",
       "      <th>130</th>\n",
       "      <td>Eagle Rock</td>\n",
       "      <td>North America USA Pennsylvania</td>\n",
       "      <td>155 m (395 m - 550 m)       4 ski lift...</td>\n",
       "    </tr>\n",
       "    <tr>\n",
       "      <th>131</th>\n",
       "      <td>WinterClub Indoor Ski &amp; Snowboard – Winter Pa...</td>\n",
       "      <td>North America USA Florida</td>\n",
       "      <td>Evaluation      4 m (30 m - 34 m)     0....</td>\n",
       "    </tr>\n",
       "    <tr>\n",
       "      <th>132</th>\n",
       "      <td>Maple Valley  (temporarily closed)</td>\n",
       "      <td>North America USA Vermont</td>\n",
       "      <td>213 m (112 m - 325 m)       3 ski lift...</td>\n",
       "    </tr>\n",
       "    <tr>\n",
       "      <th>133</th>\n",
       "      <td>Inside Ski Training Center – Leesburg (dry sl...</td>\n",
       "      <td>North America USA Virginia</td>\n",
       "      <td>Evaluation      4 m (98 m - 102 m)     0...</td>\n",
       "    </tr>\n",
       "  </tbody>\n",
       "</table>\n",
       "<p>134 rows × 3 columns</p>\n",
       "</div>"
      ],
      "text/plain": [
       "                                           Resort_Name  \\\n",
       "0                             Timberline Four Seasons    \n",
       "1                                      Kissing Bridge    \n",
       "2                                           Blue Knob    \n",
       "3                                          Plattekill    \n",
       "4                                   Labrador Mountain    \n",
       "..                                                 ...   \n",
       "129                       Dynamite Hill – Chestertown    \n",
       "130                                        Eagle Rock    \n",
       "131   WinterClub Indoor Ski & Snowboard – Winter Pa...   \n",
       "132                Maple Valley  (temporarily closed)    \n",
       "133   Inside Ski Training Center – Leesburg (dry sl...   \n",
       "\n",
       "                                         Location  \\\n",
       "0                North America USA West Virginia    \n",
       "1     North America USA New York Greater Niagara    \n",
       "2                 North America USA Pennsylvania    \n",
       "3       North America USA New York The Catskills    \n",
       "4        North America USA New York Finger Lakes    \n",
       "..                                            ...   \n",
       "129   North America USA New York The Adirondacks    \n",
       "130               North America USA Pennsylvania    \n",
       "131                    North America USA Florida    \n",
       "132                    North America USA Vermont    \n",
       "133                   North America USA Virginia    \n",
       "\n",
       "                                                  Info  \n",
       "0          Evaluation      305 m (996 m - 1301 m)  ...  \n",
       "1          Evaluation      142 m (378 m - 520 m)   ...  \n",
       "2          Evaluation      326 m (634 m - 960 m)   ...  \n",
       "3          Evaluation      318 m (696 m - 1014 m)  ...  \n",
       "4          Evaluation      210 m (360 m - 570 m)   ...  \n",
       "..                                                 ...  \n",
       "129        Evaluation      28 m (253 m - 281 m)    ...  \n",
       "130          155 m (395 m - 550 m)       4 ski lift...  \n",
       "131        Evaluation      4 m (30 m - 34 m)     0....  \n",
       "132          213 m (112 m - 325 m)       3 ski lift...  \n",
       "133        Evaluation      4 m (98 m - 102 m)     0...  \n",
       "\n",
       "[134 rows x 3 columns]"
      ]
     },
     "execution_count": 54,
     "metadata": {},
     "output_type": "execute_result"
    }
   ],
   "source": [
    "resort_data2"
   ]
  },
  {
   "cell_type": "code",
   "execution_count": 55,
   "metadata": {},
   "outputs": [],
   "source": [
    "resort_data['Region'] = 'Eastern US'"
   ]
  },
  {
   "cell_type": "code",
   "execution_count": 56,
   "metadata": {},
   "outputs": [],
   "source": [
    "resort_data2['Region'] = 'Eastern US'"
   ]
  },
  {
   "cell_type": "code",
   "execution_count": 60,
   "metadata": {},
   "outputs": [],
   "source": [
    "resort_data['State'] = resort_data['Location'].map(state_function)"
   ]
  },
  {
   "cell_type": "code",
   "execution_count": 61,
   "metadata": {},
   "outputs": [],
   "source": [
    "resort_data2['State'] = resort_data2['Location'].map(state_function)"
   ]
  },
  {
   "cell_type": "code",
   "execution_count": 57,
   "metadata": {},
   "outputs": [],
   "source": [
    "states = ['Alabama', 'Alaska', 'Arizona', 'Arkansas', 'California', 'Colorado', 'Connecticut', 'Delaware', 'Florida', \n",
    "         'Georgia', 'Hawaii', 'Idaho', 'Illinois', 'Indiana', 'Iowa', 'Kansas', 'Kentucky', 'Louisiana', 'Maine', \n",
    "         'Maryland', 'Massachusetts', 'Michigan', 'Minnesota', 'Mississippi', 'Missouri', 'Montana', 'Nebraska', \n",
    "         'Nevada', 'New Hampshire', 'New Jersey', 'New Mexico', 'New York', 'North Carolina', 'North Dakota', 'Ohio', \n",
    "         'Oklahoma', 'Oregon', 'Pennsylvania', 'Rhode Island', 'South Carolina', 'South Dakota', 'Tennessee', 'Texas', \n",
    "         'Utah', 'Vermont', 'Virginia', 'Washington', 'West Virginia', 'Wisconsin', 'Wyoming']"
   ]
  },
  {
   "cell_type": "code",
   "execution_count": 58,
   "metadata": {},
   "outputs": [],
   "source": [
    "import numpy as np"
   ]
  },
  {
   "cell_type": "code",
   "execution_count": 59,
   "metadata": {},
   "outputs": [],
   "source": [
    "def state_function(location):\n",
    "    state_name = ''\n",
    "    for state in states:\n",
    "        if state in location:\n",
    "            state_name = state\n",
    "        elif 'Lake Tahoe' in location:\n",
    "            state_name = 'California'\n",
    "    if state_name != '':\n",
    "        return state_name\n",
    "    else:\n",
    "        return np.nan"
   ]
  },
  {
   "cell_type": "code",
   "execution_count": 62,
   "metadata": {},
   "outputs": [],
   "source": [
    "def Elevations(info):\n",
    "    new_info = info.split('    ')\n",
    "    return new_info[2]"
   ]
  },
  {
   "cell_type": "code",
   "execution_count": 63,
   "metadata": {},
   "outputs": [],
   "source": [
    "def Elevations2(info):\n",
    "    new_info = info.split('    ')\n",
    "    if len(new_info) >= 5:\n",
    "        return new_info[2]\n",
    "    else:\n",
    "        return np.nan"
   ]
  },
  {
   "cell_type": "code",
   "execution_count": 64,
   "metadata": {},
   "outputs": [],
   "source": [
    "resort_data['Elevation_Info'] = resort_data['Info'].map(Elevations)"
   ]
  },
  {
   "cell_type": "code",
   "execution_count": 65,
   "metadata": {},
   "outputs": [],
   "source": [
    "resort_data2['Elevation_Info'] = resort_data2['Info'].map(Elevations2)"
   ]
  },
  {
   "cell_type": "code",
   "execution_count": 66,
   "metadata": {},
   "outputs": [],
   "source": [
    "def Distance(info):\n",
    "    new_info = info.split('    ')\n",
    "    return new_info[3]"
   ]
  },
  {
   "cell_type": "code",
   "execution_count": 67,
   "metadata": {},
   "outputs": [],
   "source": [
    "def Distance2(info):\n",
    "    new_info = info.split('    ')\n",
    "    if len(new_info) >= 5:\n",
    "        return new_info[3]\n",
    "    else:\n",
    "        return np.nan"
   ]
  },
  {
   "cell_type": "code",
   "execution_count": 68,
   "metadata": {},
   "outputs": [],
   "source": [
    "resort_data2['Distance_Info'] = resort_data2['Info'].map(Distance2)"
   ]
  },
  {
   "cell_type": "code",
   "execution_count": 69,
   "metadata": {},
   "outputs": [],
   "source": [
    "resort_data['Distance_Info'] = resort_data['Info'].map(Distance)"
   ]
  },
  {
   "cell_type": "code",
   "execution_count": 70,
   "metadata": {},
   "outputs": [],
   "source": [
    "def Lifts(info):\n",
    "    new_info = info.split('    ')\n",
    "    return new_info[4]"
   ]
  },
  {
   "cell_type": "code",
   "execution_count": 71,
   "metadata": {},
   "outputs": [],
   "source": [
    "def Lifts2(info):\n",
    "    new_info = info.split('    ')\n",
    "    if len(new_info) >= 5:\n",
    "        return new_info[4]\n",
    "    else:\n",
    "        return np.nan"
   ]
  },
  {
   "cell_type": "code",
   "execution_count": 72,
   "metadata": {},
   "outputs": [],
   "source": [
    "resort_data['Lift_Info'] = resort_data['Info'].map(Lifts)"
   ]
  },
  {
   "cell_type": "code",
   "execution_count": 73,
   "metadata": {},
   "outputs": [],
   "source": [
    "resort_data2['Lift_Info'] = resort_data2['Info'].map(Lifts2)"
   ]
  },
  {
   "cell_type": "code",
   "execution_count": 74,
   "metadata": {},
   "outputs": [],
   "source": [
    "def Prices(info):\n",
    "    new_info = info.split('    ')\n",
    "    return new_info[5]"
   ]
  },
  {
   "cell_type": "code",
   "execution_count": 75,
   "metadata": {},
   "outputs": [],
   "source": [
    "def Prices2(info):\n",
    "    new_info = info.split('    ')\n",
    "    if len(new_info) >= 6:\n",
    "        return new_info[5]\n",
    "    else:\n",
    "        return np.nan"
   ]
  },
  {
   "cell_type": "code",
   "execution_count": 76,
   "metadata": {},
   "outputs": [],
   "source": [
    "resort_data['Price_Info'] = resort_data['Info'].map(Prices)"
   ]
  },
  {
   "cell_type": "code",
   "execution_count": 77,
   "metadata": {},
   "outputs": [],
   "source": [
    "resort_data2['Price_Info'] = resort_data2['Info'].map(Prices2)"
   ]
  },
  {
   "cell_type": "code",
   "execution_count": 80,
   "metadata": {},
   "outputs": [
    {
     "data": {
      "text/html": [
       "<div>\n",
       "<style scoped>\n",
       "    .dataframe tbody tr th:only-of-type {\n",
       "        vertical-align: middle;\n",
       "    }\n",
       "\n",
       "    .dataframe tbody tr th {\n",
       "        vertical-align: top;\n",
       "    }\n",
       "\n",
       "    .dataframe thead th {\n",
       "        text-align: right;\n",
       "    }\n",
       "</style>\n",
       "<table border=\"1\" class=\"dataframe\">\n",
       "  <thead>\n",
       "    <tr style=\"text-align: right;\">\n",
       "      <th></th>\n",
       "      <th>Resort_Name</th>\n",
       "      <th>Location</th>\n",
       "      <th>Info</th>\n",
       "      <th>Region</th>\n",
       "      <th>State</th>\n",
       "      <th>Elevation_Info</th>\n",
       "      <th>Distance_Info</th>\n",
       "      <th>Lift_Info</th>\n",
       "      <th>Price_Info</th>\n",
       "    </tr>\n",
       "  </thead>\n",
       "  <tbody>\n",
       "    <tr>\n",
       "      <th>114</th>\n",
       "      <td>Brantling Ski Slopes</td>\n",
       "      <td>North America USA New York Finger Lakes</td>\n",
       "      <td>70 m (140 m - 210 m)     1 km 0.7 km 0...</td>\n",
       "      <td>Eastern US</td>\n",
       "      <td>New York</td>\n",
       "      <td>70 m (140 m - 210 m)</td>\n",
       "      <td>1 km 0.7 km 0.3 km 0 km</td>\n",
       "      <td>6 ski lifts</td>\n",
       "      <td>US$ 32,- / approx. € 27,-</td>\n",
       "    </tr>\n",
       "    <tr>\n",
       "      <th>115</th>\n",
       "      <td>Eaton Mountain</td>\n",
       "      <td>North America USA Maine</td>\n",
       "      <td>90 m (50 m - 140 m)     2 km 1.5 km 0....</td>\n",
       "      <td>Eastern US</td>\n",
       "      <td>Maine</td>\n",
       "      <td>90 m (50 m - 140 m)</td>\n",
       "      <td>2 km 1.5 km 0.5 km 0 km</td>\n",
       "      <td>2 ski lifts</td>\n",
       "      <td>US$ 15,- / approx. € 13,-</td>\n",
       "    </tr>\n",
       "    <tr>\n",
       "      <th>116</th>\n",
       "      <td>Living Memorial Park – Brattleboro</td>\n",
       "      <td>North America USA Vermont</td>\n",
       "      <td>Evaluation      57 m (132 m - 189 m)    ...</td>\n",
       "      <td>Eastern US</td>\n",
       "      <td>Vermont</td>\n",
       "      <td>57 m (132 m - 189 m)</td>\n",
       "      <td>0.5 km 0.5 km 0 km 0 km</td>\n",
       "      <td>1 ski lift</td>\n",
       "      <td>US$ 5,- / approx. € 4,-</td>\n",
       "    </tr>\n",
       "    <tr>\n",
       "      <th>117</th>\n",
       "      <td>Snow Hill at Eastman</td>\n",
       "      <td>North America USA New Hampshire</td>\n",
       "      <td>80 m (340 m - 420 m)     1 km 0.5 km 0...</td>\n",
       "      <td>Eastern US</td>\n",
       "      <td>New Hampshire</td>\n",
       "      <td>80 m (340 m - 420 m)</td>\n",
       "      <td>1 km 0.5 km 0.5 km 0 km</td>\n",
       "      <td>1 ski lift</td>\n",
       "      <td></td>\n",
       "    </tr>\n",
       "    <tr>\n",
       "      <th>118</th>\n",
       "      <td>Mt. Eustis – Littleton  (temporarily closed)</td>\n",
       "      <td>North America USA New Hampshire</td>\n",
       "      <td>Evaluation      85 m (300 m - 385 m)    ...</td>\n",
       "      <td>Eastern US</td>\n",
       "      <td>New Hampshire</td>\n",
       "      <td>85 m (300 m - 385 m)</td>\n",
       "      <td>1.2 km 0.5 km 0.7 km 0 km</td>\n",
       "      <td>1 ski lift</td>\n",
       "      <td></td>\n",
       "    </tr>\n",
       "    <tr>\n",
       "      <th>119</th>\n",
       "      <td>Mount Prospect – Lancaster</td>\n",
       "      <td>North America USA New Hampshire</td>\n",
       "      <td>Evaluation      76 m (444 m - 520 m)    ...</td>\n",
       "      <td>Eastern US</td>\n",
       "      <td>New Hampshire</td>\n",
       "      <td>76 m (444 m - 520 m)</td>\n",
       "      <td>0.8 km 0.5 km 0.3 km 0 km</td>\n",
       "      <td>1 ski lift</td>\n",
       "      <td>US$ 7,- / approx. € 6,-</td>\n",
       "    </tr>\n",
       "    <tr>\n",
       "      <th>120</th>\n",
       "      <td>Boyce Park</td>\n",
       "      <td>North America USA Pennsylvania</td>\n",
       "      <td>40 m (340 m - 380 m)     1 km 1 km 0 k...</td>\n",
       "      <td>Eastern US</td>\n",
       "      <td>Pennsylvania</td>\n",
       "      <td>40 m (340 m - 380 m)</td>\n",
       "      <td>1 km 1 km 0 km 0 km</td>\n",
       "      <td>1 ski lift</td>\n",
       "      <td>US$ 28,- / approx. € 24,-</td>\n",
       "    </tr>\n",
       "    <tr>\n",
       "      <th>121</th>\n",
       "      <td>Villa Roma</td>\n",
       "      <td>North America USA New York The Catskills</td>\n",
       "      <td>56 m (332 m - 388 m)     1.7 km 1.7 km...</td>\n",
       "      <td>Eastern US</td>\n",
       "      <td>New York</td>\n",
       "      <td>56 m (332 m - 388 m)</td>\n",
       "      <td>1.7 km 1.7 km 0 km 0 km</td>\n",
       "      <td>2 ski lifts</td>\n",
       "      <td></td>\n",
       "    </tr>\n",
       "    <tr>\n",
       "      <th>122</th>\n",
       "      <td>Cloudmont Ski Resort</td>\n",
       "      <td>North America USA Alabama</td>\n",
       "      <td>55 m (493 m - 548 m)     0.6 km 0.6 km...</td>\n",
       "      <td>Eastern US</td>\n",
       "      <td>Alabama</td>\n",
       "      <td>55 m (493 m - 548 m)</td>\n",
       "      <td>0.6 km 0.6 km 0 km 0 km</td>\n",
       "      <td>2 ski lifts</td>\n",
       "      <td>US$ 40,- / approx. € 34,-</td>\n",
       "    </tr>\n",
       "    <tr>\n",
       "      <th>123</th>\n",
       "      <td>Four Seasons</td>\n",
       "      <td>North America USA New York Finger Lakes</td>\n",
       "      <td>25 m (160 m - 185 m)     0.5 km 0.4 km...</td>\n",
       "      <td>Eastern US</td>\n",
       "      <td>New York</td>\n",
       "      <td>25 m (160 m - 185 m)</td>\n",
       "      <td>0.5 km 0.4 km 0.1 km 0 km</td>\n",
       "      <td>1 ski lift</td>\n",
       "      <td>US$ 24,- / approx. € 20,-</td>\n",
       "    </tr>\n",
       "    <tr>\n",
       "      <th>124</th>\n",
       "      <td>Aldis Hill Park – St. Albans</td>\n",
       "      <td>North America USA Vermont</td>\n",
       "      <td>30 m (120 m - 150 m)     0.4 km 0.2 km...</td>\n",
       "      <td>Eastern US</td>\n",
       "      <td>Vermont</td>\n",
       "      <td>30 m (120 m - 150 m)</td>\n",
       "      <td>0.4 km 0.2 km 0.2 km 0 km</td>\n",
       "      <td>2 ski lifts</td>\n",
       "      <td></td>\n",
       "    </tr>\n",
       "    <tr>\n",
       "      <th>125</th>\n",
       "      <td>Powderhouse Hill – South Berwick</td>\n",
       "      <td>North America USA Maine</td>\n",
       "      <td>Evaluation      43 m (37 m - 80 m)     0...</td>\n",
       "      <td>Eastern US</td>\n",
       "      <td>Maine</td>\n",
       "      <td>43 m (37 m - 80 m)</td>\n",
       "      <td>0.5 km 0.5 km 0 km 0 km</td>\n",
       "      <td>1 ski lift</td>\n",
       "      <td>US$ 5,- / approx. € 4,-</td>\n",
       "    </tr>\n",
       "    <tr>\n",
       "      <th>126</th>\n",
       "      <td>Rocking Horse Ranch</td>\n",
       "      <td>North America USA New York The Catskills</td>\n",
       "      <td>Evaluation      42 m (172 m - 214 m)    ...</td>\n",
       "      <td>Eastern US</td>\n",
       "      <td>New York</td>\n",
       "      <td>NaN</td>\n",
       "      <td>NaN</td>\n",
       "      <td>NaN</td>\n",
       "      <td>NaN</td>\n",
       "    </tr>\n",
       "    <tr>\n",
       "      <th>127</th>\n",
       "      <td>Cockaigne Resort</td>\n",
       "      <td>North America USA New York Chautauqua-Allegheny</td>\n",
       "      <td>132 m (487 m - 619 m)       3 ski lift...</td>\n",
       "      <td>Eastern US</td>\n",
       "      <td>New York</td>\n",
       "      <td>132 m (487 m - 619 m)</td>\n",
       "      <td>3 ski lifts</td>\n",
       "      <td>US$ 38,- / approx. € 32,-</td>\n",
       "      <td>NaN</td>\n",
       "    </tr>\n",
       "    <tr>\n",
       "      <th>128</th>\n",
       "      <td>Winterplace</td>\n",
       "      <td>North America USA West Virginia</td>\n",
       "      <td>184 m (913 m - 1097 m)       7 ski lif...</td>\n",
       "      <td>Eastern US</td>\n",
       "      <td>West Virginia</td>\n",
       "      <td>184 m (913 m - 1097 m)</td>\n",
       "      <td>7 ski lifts</td>\n",
       "      <td>US$ 54,- / approx. € 46,-</td>\n",
       "      <td>NaN</td>\n",
       "    </tr>\n",
       "    <tr>\n",
       "      <th>129</th>\n",
       "      <td>Dynamite Hill – Chestertown</td>\n",
       "      <td>North America USA New York The Adirondacks</td>\n",
       "      <td>Evaluation      28 m (253 m - 281 m)    ...</td>\n",
       "      <td>Eastern US</td>\n",
       "      <td>New York</td>\n",
       "      <td>28 m (253 m - 281 m)</td>\n",
       "      <td>0.2 km 0.2 km 0 km 0 km</td>\n",
       "      <td>1 ski lift</td>\n",
       "      <td></td>\n",
       "    </tr>\n",
       "    <tr>\n",
       "      <th>130</th>\n",
       "      <td>Eagle Rock</td>\n",
       "      <td>North America USA Pennsylvania</td>\n",
       "      <td>155 m (395 m - 550 m)       4 ski lift...</td>\n",
       "      <td>Eastern US</td>\n",
       "      <td>Pennsylvania</td>\n",
       "      <td>155 m (395 m - 550 m)</td>\n",
       "      <td>4 ski lifts</td>\n",
       "      <td>US$ 42,- / approx. € 35,-</td>\n",
       "      <td>NaN</td>\n",
       "    </tr>\n",
       "    <tr>\n",
       "      <th>131</th>\n",
       "      <td>WinterClub Indoor Ski &amp; Snowboard – Winter Pa...</td>\n",
       "      <td>North America USA Florida</td>\n",
       "      <td>Evaluation      4 m (30 m - 34 m)     0....</td>\n",
       "      <td>Eastern US</td>\n",
       "      <td>Florida</td>\n",
       "      <td>NaN</td>\n",
       "      <td>NaN</td>\n",
       "      <td>NaN</td>\n",
       "      <td>NaN</td>\n",
       "    </tr>\n",
       "    <tr>\n",
       "      <th>132</th>\n",
       "      <td>Maple Valley  (temporarily closed)</td>\n",
       "      <td>North America USA Vermont</td>\n",
       "      <td>213 m (112 m - 325 m)       3 ski lift...</td>\n",
       "      <td>Eastern US</td>\n",
       "      <td>Vermont</td>\n",
       "      <td>213 m (112 m - 325 m)</td>\n",
       "      <td>3 ski lifts</td>\n",
       "      <td></td>\n",
       "      <td>NaN</td>\n",
       "    </tr>\n",
       "    <tr>\n",
       "      <th>133</th>\n",
       "      <td>Inside Ski Training Center – Leesburg (dry sl...</td>\n",
       "      <td>North America USA Virginia</td>\n",
       "      <td>Evaluation      4 m (98 m - 102 m)     0...</td>\n",
       "      <td>Eastern US</td>\n",
       "      <td>Virginia</td>\n",
       "      <td>NaN</td>\n",
       "      <td>NaN</td>\n",
       "      <td>NaN</td>\n",
       "      <td>NaN</td>\n",
       "    </tr>\n",
       "  </tbody>\n",
       "</table>\n",
       "</div>"
      ],
      "text/plain": [
       "                                           Resort_Name  \\\n",
       "114                              Brantling Ski Slopes    \n",
       "115                                    Eaton Mountain    \n",
       "116                Living Memorial Park – Brattleboro    \n",
       "117                              Snow Hill at Eastman    \n",
       "118      Mt. Eustis – Littleton  (temporarily closed)    \n",
       "119                        Mount Prospect – Lancaster    \n",
       "120                                        Boyce Park    \n",
       "121                                        Villa Roma    \n",
       "122                              Cloudmont Ski Resort    \n",
       "123                                      Four Seasons    \n",
       "124                      Aldis Hill Park – St. Albans    \n",
       "125                  Powderhouse Hill – South Berwick    \n",
       "126                               Rocking Horse Ranch    \n",
       "127                                  Cockaigne Resort    \n",
       "128                                       Winterplace    \n",
       "129                       Dynamite Hill – Chestertown    \n",
       "130                                        Eagle Rock    \n",
       "131   WinterClub Indoor Ski & Snowboard – Winter Pa...   \n",
       "132                Maple Valley  (temporarily closed)    \n",
       "133   Inside Ski Training Center – Leesburg (dry sl...   \n",
       "\n",
       "                                              Location  \\\n",
       "114           North America USA New York Finger Lakes    \n",
       "115                           North America USA Maine    \n",
       "116                         North America USA Vermont    \n",
       "117                   North America USA New Hampshire    \n",
       "118                   North America USA New Hampshire    \n",
       "119                   North America USA New Hampshire    \n",
       "120                    North America USA Pennsylvania    \n",
       "121          North America USA New York The Catskills    \n",
       "122                         North America USA Alabama    \n",
       "123           North America USA New York Finger Lakes    \n",
       "124                         North America USA Vermont    \n",
       "125                           North America USA Maine    \n",
       "126          North America USA New York The Catskills    \n",
       "127   North America USA New York Chautauqua-Allegheny    \n",
       "128                   North America USA West Virginia    \n",
       "129        North America USA New York The Adirondacks    \n",
       "130                    North America USA Pennsylvania    \n",
       "131                         North America USA Florida    \n",
       "132                         North America USA Vermont    \n",
       "133                        North America USA Virginia    \n",
       "\n",
       "                                                  Info      Region  \\\n",
       "114          70 m (140 m - 210 m)     1 km 0.7 km 0...  Eastern US   \n",
       "115          90 m (50 m - 140 m)     2 km 1.5 km 0....  Eastern US   \n",
       "116        Evaluation      57 m (132 m - 189 m)    ...  Eastern US   \n",
       "117          80 m (340 m - 420 m)     1 km 0.5 km 0...  Eastern US   \n",
       "118        Evaluation      85 m (300 m - 385 m)    ...  Eastern US   \n",
       "119        Evaluation      76 m (444 m - 520 m)    ...  Eastern US   \n",
       "120          40 m (340 m - 380 m)     1 km 1 km 0 k...  Eastern US   \n",
       "121          56 m (332 m - 388 m)     1.7 km 1.7 km...  Eastern US   \n",
       "122          55 m (493 m - 548 m)     0.6 km 0.6 km...  Eastern US   \n",
       "123          25 m (160 m - 185 m)     0.5 km 0.4 km...  Eastern US   \n",
       "124          30 m (120 m - 150 m)     0.4 km 0.2 km...  Eastern US   \n",
       "125        Evaluation      43 m (37 m - 80 m)     0...  Eastern US   \n",
       "126        Evaluation      42 m (172 m - 214 m)    ...  Eastern US   \n",
       "127          132 m (487 m - 619 m)       3 ski lift...  Eastern US   \n",
       "128          184 m (913 m - 1097 m)       7 ski lif...  Eastern US   \n",
       "129        Evaluation      28 m (253 m - 281 m)    ...  Eastern US   \n",
       "130          155 m (395 m - 550 m)       4 ski lift...  Eastern US   \n",
       "131        Evaluation      4 m (30 m - 34 m)     0....  Eastern US   \n",
       "132          213 m (112 m - 325 m)       3 ski lift...  Eastern US   \n",
       "133        Evaluation      4 m (98 m - 102 m)     0...  Eastern US   \n",
       "\n",
       "             State          Elevation_Info               Distance_Info  \\\n",
       "114       New York    70 m (140 m - 210 m)     1 km 0.7 km 0.3 km 0 km   \n",
       "115          Maine     90 m (50 m - 140 m)     2 km 1.5 km 0.5 km 0 km   \n",
       "116        Vermont    57 m (132 m - 189 m)     0.5 km 0.5 km 0 km 0 km   \n",
       "117  New Hampshire    80 m (340 m - 420 m)     1 km 0.5 km 0.5 km 0 km   \n",
       "118  New Hampshire    85 m (300 m - 385 m)   1.2 km 0.5 km 0.7 km 0 km   \n",
       "119  New Hampshire    76 m (444 m - 520 m)   0.8 km 0.5 km 0.3 km 0 km   \n",
       "120   Pennsylvania    40 m (340 m - 380 m)         1 km 1 km 0 km 0 km   \n",
       "121       New York    56 m (332 m - 388 m)     1.7 km 1.7 km 0 km 0 km   \n",
       "122        Alabama    55 m (493 m - 548 m)     0.6 km 0.6 km 0 km 0 km   \n",
       "123       New York    25 m (160 m - 185 m)   0.5 km 0.4 km 0.1 km 0 km   \n",
       "124        Vermont    30 m (120 m - 150 m)   0.4 km 0.2 km 0.2 km 0 km   \n",
       "125          Maine      43 m (37 m - 80 m)     0.5 km 0.5 km 0 km 0 km   \n",
       "126       New York                     NaN                         NaN   \n",
       "127       New York   132 m (487 m - 619 m)                 3 ski lifts   \n",
       "128  West Virginia  184 m (913 m - 1097 m)                 7 ski lifts   \n",
       "129       New York    28 m (253 m - 281 m)     0.2 km 0.2 km 0 km 0 km   \n",
       "130   Pennsylvania   155 m (395 m - 550 m)                 4 ski lifts   \n",
       "131        Florida                     NaN                         NaN   \n",
       "132        Vermont   213 m (112 m - 325 m)                 3 ski lifts   \n",
       "133       Virginia                     NaN                         NaN   \n",
       "\n",
       "                         Lift_Info                     Price_Info  \n",
       "114                    6 ski lifts    US$ 32,- / approx. € 27,-    \n",
       "115                    2 ski lifts    US$ 15,- / approx. € 13,-    \n",
       "116                     1 ski lift      US$ 5,- / approx. € 4,-    \n",
       "117                     1 ski lift                                 \n",
       "118                     1 ski lift                                 \n",
       "119                     1 ski lift      US$ 7,- / approx. € 6,-    \n",
       "120                     1 ski lift    US$ 28,- / approx. € 24,-    \n",
       "121                    2 ski lifts                                 \n",
       "122                    2 ski lifts    US$ 40,- / approx. € 34,-    \n",
       "123                     1 ski lift    US$ 24,- / approx. € 20,-    \n",
       "124                    2 ski lifts                                 \n",
       "125                     1 ski lift      US$ 5,- / approx. € 4,-    \n",
       "126                            NaN                            NaN  \n",
       "127    US$ 38,- / approx. € 32,-                              NaN  \n",
       "128    US$ 54,- / approx. € 46,-                              NaN  \n",
       "129                     1 ski lift                                 \n",
       "130    US$ 42,- / approx. € 35,-                              NaN  \n",
       "131                            NaN                            NaN  \n",
       "132                                                           NaN  \n",
       "133                            NaN                            NaN  "
      ]
     },
     "execution_count": 80,
     "metadata": {},
     "output_type": "execute_result"
    }
   ],
   "source": [
    "resort_data2.tail(20)"
   ]
  },
  {
   "cell_type": "code",
   "execution_count": 82,
   "metadata": {},
   "outputs": [],
   "source": [
    "resort_data2 = resort_data2[0:125]"
   ]
  },
  {
   "cell_type": "code",
   "execution_count": 83,
   "metadata": {},
   "outputs": [
    {
     "data": {
      "text/html": [
       "<div>\n",
       "<style scoped>\n",
       "    .dataframe tbody tr th:only-of-type {\n",
       "        vertical-align: middle;\n",
       "    }\n",
       "\n",
       "    .dataframe tbody tr th {\n",
       "        vertical-align: top;\n",
       "    }\n",
       "\n",
       "    .dataframe thead th {\n",
       "        text-align: right;\n",
       "    }\n",
       "</style>\n",
       "<table border=\"1\" class=\"dataframe\">\n",
       "  <thead>\n",
       "    <tr style=\"text-align: right;\">\n",
       "      <th></th>\n",
       "      <th>Resort_Name</th>\n",
       "      <th>Location</th>\n",
       "      <th>Info</th>\n",
       "      <th>Region</th>\n",
       "      <th>State</th>\n",
       "      <th>Elevation_Info</th>\n",
       "      <th>Distance_Info</th>\n",
       "      <th>Lift_Info</th>\n",
       "      <th>Price_Info</th>\n",
       "    </tr>\n",
       "  </thead>\n",
       "  <tbody>\n",
       "    <tr>\n",
       "      <th>0</th>\n",
       "      <td>Timberline Four Seasons</td>\n",
       "      <td>North America USA West Virginia</td>\n",
       "      <td>Evaluation      305 m (996 m - 1301 m)  ...</td>\n",
       "      <td>Eastern US</td>\n",
       "      <td>West Virginia</td>\n",
       "      <td>305 m (996 m - 1301 m)</td>\n",
       "      <td>18 km 6 km 6 km 6 km</td>\n",
       "      <td>3 ski lifts</td>\n",
       "      <td>US$ 84,- / approx. € 71,-</td>\n",
       "    </tr>\n",
       "    <tr>\n",
       "      <th>1</th>\n",
       "      <td>Kissing Bridge</td>\n",
       "      <td>North America USA New York Greater Niagara</td>\n",
       "      <td>Evaluation      142 m (378 m - 520 m)   ...</td>\n",
       "      <td>Eastern US</td>\n",
       "      <td>New York</td>\n",
       "      <td>142 m (378 m - 520 m)</td>\n",
       "      <td>17.8 km 4.5 km 4.8 km 8.5 km</td>\n",
       "      <td>8 ski lifts</td>\n",
       "      <td>US$ 60,- / approx. € 51,-</td>\n",
       "    </tr>\n",
       "    <tr>\n",
       "      <th>2</th>\n",
       "      <td>Blue Knob</td>\n",
       "      <td>North America USA Pennsylvania</td>\n",
       "      <td>Evaluation      326 m (634 m - 960 m)   ...</td>\n",
       "      <td>Eastern US</td>\n",
       "      <td>Pennsylvania</td>\n",
       "      <td>326 m (634 m - 960 m)</td>\n",
       "      <td>16 km 5 km 8 km 3 km</td>\n",
       "      <td>4 ski lifts</td>\n",
       "      <td>US$ 75,- / approx. € 63,-</td>\n",
       "    </tr>\n",
       "    <tr>\n",
       "      <th>3</th>\n",
       "      <td>Plattekill</td>\n",
       "      <td>North America USA New York The Catskills</td>\n",
       "      <td>Evaluation      318 m (696 m - 1014 m)  ...</td>\n",
       "      <td>Eastern US</td>\n",
       "      <td>New York</td>\n",
       "      <td>318 m (696 m - 1014 m)</td>\n",
       "      <td>16.5 km 4.5 km 6 km 6 km</td>\n",
       "      <td>3 ski lifts</td>\n",
       "      <td>US$ 67,- / approx. € 57,-</td>\n",
       "    </tr>\n",
       "    <tr>\n",
       "      <th>4</th>\n",
       "      <td>Labrador Mountain</td>\n",
       "      <td>North America USA New York Finger Lakes</td>\n",
       "      <td>Evaluation      210 m (360 m - 570 m)   ...</td>\n",
       "      <td>Eastern US</td>\n",
       "      <td>New York</td>\n",
       "      <td>210 m (360 m - 570 m)</td>\n",
       "      <td>17 km 6 km 6 km 5 km</td>\n",
       "      <td>4 ski lifts</td>\n",
       "      <td>US$ 61,- / approx. € 51,-</td>\n",
       "    </tr>\n",
       "    <tr>\n",
       "      <th>...</th>\n",
       "      <td>...</td>\n",
       "      <td>...</td>\n",
       "      <td>...</td>\n",
       "      <td>...</td>\n",
       "      <td>...</td>\n",
       "      <td>...</td>\n",
       "      <td>...</td>\n",
       "      <td>...</td>\n",
       "      <td>...</td>\n",
       "    </tr>\n",
       "    <tr>\n",
       "      <th>120</th>\n",
       "      <td>Boyce Park</td>\n",
       "      <td>North America USA Pennsylvania</td>\n",
       "      <td>40 m (340 m - 380 m)     1 km 1 km 0 k...</td>\n",
       "      <td>Eastern US</td>\n",
       "      <td>Pennsylvania</td>\n",
       "      <td>40 m (340 m - 380 m)</td>\n",
       "      <td>1 km 1 km 0 km 0 km</td>\n",
       "      <td>1 ski lift</td>\n",
       "      <td>US$ 28,- / approx. € 24,-</td>\n",
       "    </tr>\n",
       "    <tr>\n",
       "      <th>121</th>\n",
       "      <td>Villa Roma</td>\n",
       "      <td>North America USA New York The Catskills</td>\n",
       "      <td>56 m (332 m - 388 m)     1.7 km 1.7 km...</td>\n",
       "      <td>Eastern US</td>\n",
       "      <td>New York</td>\n",
       "      <td>56 m (332 m - 388 m)</td>\n",
       "      <td>1.7 km 1.7 km 0 km 0 km</td>\n",
       "      <td>2 ski lifts</td>\n",
       "      <td></td>\n",
       "    </tr>\n",
       "    <tr>\n",
       "      <th>122</th>\n",
       "      <td>Cloudmont Ski Resort</td>\n",
       "      <td>North America USA Alabama</td>\n",
       "      <td>55 m (493 m - 548 m)     0.6 km 0.6 km...</td>\n",
       "      <td>Eastern US</td>\n",
       "      <td>Alabama</td>\n",
       "      <td>55 m (493 m - 548 m)</td>\n",
       "      <td>0.6 km 0.6 km 0 km 0 km</td>\n",
       "      <td>2 ski lifts</td>\n",
       "      <td>US$ 40,- / approx. € 34,-</td>\n",
       "    </tr>\n",
       "    <tr>\n",
       "      <th>123</th>\n",
       "      <td>Four Seasons</td>\n",
       "      <td>North America USA New York Finger Lakes</td>\n",
       "      <td>25 m (160 m - 185 m)     0.5 km 0.4 km...</td>\n",
       "      <td>Eastern US</td>\n",
       "      <td>New York</td>\n",
       "      <td>25 m (160 m - 185 m)</td>\n",
       "      <td>0.5 km 0.4 km 0.1 km 0 km</td>\n",
       "      <td>1 ski lift</td>\n",
       "      <td>US$ 24,- / approx. € 20,-</td>\n",
       "    </tr>\n",
       "    <tr>\n",
       "      <th>124</th>\n",
       "      <td>Aldis Hill Park – St. Albans</td>\n",
       "      <td>North America USA Vermont</td>\n",
       "      <td>30 m (120 m - 150 m)     0.4 km 0.2 km...</td>\n",
       "      <td>Eastern US</td>\n",
       "      <td>Vermont</td>\n",
       "      <td>30 m (120 m - 150 m)</td>\n",
       "      <td>0.4 km 0.2 km 0.2 km 0 km</td>\n",
       "      <td>2 ski lifts</td>\n",
       "      <td></td>\n",
       "    </tr>\n",
       "  </tbody>\n",
       "</table>\n",
       "<p>125 rows × 9 columns</p>\n",
       "</div>"
      ],
      "text/plain": [
       "                        Resort_Name  \\\n",
       "0          Timberline Four Seasons    \n",
       "1                   Kissing Bridge    \n",
       "2                        Blue Knob    \n",
       "3                       Plattekill    \n",
       "4                Labrador Mountain    \n",
       "..                              ...   \n",
       "120                     Boyce Park    \n",
       "121                     Villa Roma    \n",
       "122           Cloudmont Ski Resort    \n",
       "123                   Four Seasons    \n",
       "124   Aldis Hill Park – St. Albans    \n",
       "\n",
       "                                         Location  \\\n",
       "0                North America USA West Virginia    \n",
       "1     North America USA New York Greater Niagara    \n",
       "2                 North America USA Pennsylvania    \n",
       "3       North America USA New York The Catskills    \n",
       "4        North America USA New York Finger Lakes    \n",
       "..                                            ...   \n",
       "120               North America USA Pennsylvania    \n",
       "121     North America USA New York The Catskills    \n",
       "122                    North America USA Alabama    \n",
       "123      North America USA New York Finger Lakes    \n",
       "124                    North America USA Vermont    \n",
       "\n",
       "                                                  Info      Region  \\\n",
       "0          Evaluation      305 m (996 m - 1301 m)  ...  Eastern US   \n",
       "1          Evaluation      142 m (378 m - 520 m)   ...  Eastern US   \n",
       "2          Evaluation      326 m (634 m - 960 m)   ...  Eastern US   \n",
       "3          Evaluation      318 m (696 m - 1014 m)  ...  Eastern US   \n",
       "4          Evaluation      210 m (360 m - 570 m)   ...  Eastern US   \n",
       "..                                                 ...         ...   \n",
       "120          40 m (340 m - 380 m)     1 km 1 km 0 k...  Eastern US   \n",
       "121          56 m (332 m - 388 m)     1.7 km 1.7 km...  Eastern US   \n",
       "122          55 m (493 m - 548 m)     0.6 km 0.6 km...  Eastern US   \n",
       "123          25 m (160 m - 185 m)     0.5 km 0.4 km...  Eastern US   \n",
       "124          30 m (120 m - 150 m)     0.4 km 0.2 km...  Eastern US   \n",
       "\n",
       "             State            Elevation_Info                  Distance_Info  \\\n",
       "0    West Virginia    305 m (996 m - 1301 m)           18 km 6 km 6 km 6 km   \n",
       "1         New York     142 m (378 m - 520 m)   17.8 km 4.5 km 4.8 km 8.5 km   \n",
       "2     Pennsylvania     326 m (634 m - 960 m)           16 km 5 km 8 km 3 km   \n",
       "3         New York    318 m (696 m - 1014 m)       16.5 km 4.5 km 6 km 6 km   \n",
       "4         New York     210 m (360 m - 570 m)           17 km 6 km 6 km 5 km   \n",
       "..             ...                       ...                            ...   \n",
       "120   Pennsylvania      40 m (340 m - 380 m)            1 km 1 km 0 km 0 km   \n",
       "121       New York      56 m (332 m - 388 m)        1.7 km 1.7 km 0 km 0 km   \n",
       "122        Alabama      55 m (493 m - 548 m)        0.6 km 0.6 km 0 km 0 km   \n",
       "123       New York      25 m (160 m - 185 m)      0.5 km 0.4 km 0.1 km 0 km   \n",
       "124        Vermont      30 m (120 m - 150 m)      0.4 km 0.2 km 0.2 km 0 km   \n",
       "\n",
       "          Lift_Info                     Price_Info  \n",
       "0       3 ski lifts    US$ 84,- / approx. € 71,-    \n",
       "1       8 ski lifts    US$ 60,- / approx. € 51,-    \n",
       "2       4 ski lifts    US$ 75,- / approx. € 63,-    \n",
       "3       3 ski lifts    US$ 67,- / approx. € 57,-    \n",
       "4       4 ski lifts    US$ 61,- / approx. € 51,-    \n",
       "..              ...                            ...  \n",
       "120      1 ski lift    US$ 28,- / approx. € 24,-    \n",
       "121     2 ski lifts                                 \n",
       "122     2 ski lifts    US$ 40,- / approx. € 34,-    \n",
       "123      1 ski lift    US$ 24,- / approx. € 20,-    \n",
       "124     2 ski lifts                                 \n",
       "\n",
       "[125 rows x 9 columns]"
      ]
     },
     "execution_count": 83,
     "metadata": {},
     "output_type": "execute_result"
    }
   ],
   "source": [
    "resort_data2"
   ]
  },
  {
   "cell_type": "code",
   "execution_count": 84,
   "metadata": {},
   "outputs": [],
   "source": [
    "eastern_resorts = pd.concat([resort_data, resort_data2],ignore_index=True)"
   ]
  },
  {
   "cell_type": "code",
   "execution_count": 85,
   "metadata": {},
   "outputs": [
    {
     "data": {
      "text/html": [
       "<div>\n",
       "<style scoped>\n",
       "    .dataframe tbody tr th:only-of-type {\n",
       "        vertical-align: middle;\n",
       "    }\n",
       "\n",
       "    .dataframe tbody tr th {\n",
       "        vertical-align: top;\n",
       "    }\n",
       "\n",
       "    .dataframe thead th {\n",
       "        text-align: right;\n",
       "    }\n",
       "</style>\n",
       "<table border=\"1\" class=\"dataframe\">\n",
       "  <thead>\n",
       "    <tr style=\"text-align: right;\">\n",
       "      <th></th>\n",
       "      <th>Resort_Name</th>\n",
       "      <th>Location</th>\n",
       "      <th>Info</th>\n",
       "      <th>Region</th>\n",
       "      <th>State</th>\n",
       "      <th>Elevation_Info</th>\n",
       "      <th>Distance_Info</th>\n",
       "      <th>Lift_Info</th>\n",
       "      <th>Price_Info</th>\n",
       "    </tr>\n",
       "  </thead>\n",
       "  <tbody>\n",
       "    <tr>\n",
       "      <th>0</th>\n",
       "      <td>Killington</td>\n",
       "      <td>North America USA Vermont</td>\n",
       "      <td>Test result      938 m (355 m - 1293 m) ...</td>\n",
       "      <td>Eastern US</td>\n",
       "      <td>Vermont</td>\n",
       "      <td>938 m (355 m - 1293 m)</td>\n",
       "      <td>116.8 km 19.9 km 46.7 km 50.2 km</td>\n",
       "      <td>19 ski lifts</td>\n",
       "      <td>US$ 130,- / approx. € 110,-</td>\n",
       "    </tr>\n",
       "    <tr>\n",
       "      <th>1</th>\n",
       "      <td>Sunday River</td>\n",
       "      <td>North America USA Maine</td>\n",
       "      <td>Test result      707 m (250 m - 957 m)  ...</td>\n",
       "      <td>Eastern US</td>\n",
       "      <td>Maine</td>\n",
       "      <td>707 m (250 m - 957 m)</td>\n",
       "      <td>84.8 km 25.5 km 30.5 km 28.8 km</td>\n",
       "      <td>15 ski lifts</td>\n",
       "      <td>US$ 109,- / approx. € 92,-</td>\n",
       "    </tr>\n",
       "    <tr>\n",
       "      <th>2</th>\n",
       "      <td>Stowe</td>\n",
       "      <td>North America USA Vermont</td>\n",
       "      <td>Test result      726 m (390 m - 1116 m) ...</td>\n",
       "      <td>Eastern US</td>\n",
       "      <td>Vermont</td>\n",
       "      <td>726 m (390 m - 1116 m)</td>\n",
       "      <td>70 km 20 km 42 km 8 km</td>\n",
       "      <td>10 ski lifts</td>\n",
       "      <td>US$ 149,- / approx. € 126,-</td>\n",
       "    </tr>\n",
       "    <tr>\n",
       "      <th>3</th>\n",
       "      <td>Whiteface – Lake Placid</td>\n",
       "      <td>North America USA New York The Adirondacks</td>\n",
       "      <td>Test result      969 m (371 m - 1340 m) ...</td>\n",
       "      <td>Eastern US</td>\n",
       "      <td>New York</td>\n",
       "      <td>969 m (371 m - 1340 m)</td>\n",
       "      <td>37 km 12.8 km 15.9 km 8.3 km</td>\n",
       "      <td>10 ski lifts</td>\n",
       "      <td>US$ 104,- / approx. € 88,-</td>\n",
       "    </tr>\n",
       "    <tr>\n",
       "      <th>4</th>\n",
       "      <td>Stratton</td>\n",
       "      <td>North America USA Vermont</td>\n",
       "      <td>Evaluation      581 m (600 m - 1181 m)  ...</td>\n",
       "      <td>Eastern US</td>\n",
       "      <td>Vermont</td>\n",
       "      <td>581 m (600 m - 1181 m)</td>\n",
       "      <td>92 km 60 km 20 km 12 km</td>\n",
       "      <td>11 ski lifts</td>\n",
       "      <td>US$ 125,- / approx. € 105,-</td>\n",
       "    </tr>\n",
       "    <tr>\n",
       "      <th>...</th>\n",
       "      <td>...</td>\n",
       "      <td>...</td>\n",
       "      <td>...</td>\n",
       "      <td>...</td>\n",
       "      <td>...</td>\n",
       "      <td>...</td>\n",
       "      <td>...</td>\n",
       "      <td>...</td>\n",
       "      <td>...</td>\n",
       "    </tr>\n",
       "    <tr>\n",
       "      <th>170</th>\n",
       "      <td>Boyce Park</td>\n",
       "      <td>North America USA Pennsylvania</td>\n",
       "      <td>40 m (340 m - 380 m)     1 km 1 km 0 k...</td>\n",
       "      <td>Eastern US</td>\n",
       "      <td>Pennsylvania</td>\n",
       "      <td>40 m (340 m - 380 m)</td>\n",
       "      <td>1 km 1 km 0 km 0 km</td>\n",
       "      <td>1 ski lift</td>\n",
       "      <td>US$ 28,- / approx. € 24,-</td>\n",
       "    </tr>\n",
       "    <tr>\n",
       "      <th>171</th>\n",
       "      <td>Villa Roma</td>\n",
       "      <td>North America USA New York The Catskills</td>\n",
       "      <td>56 m (332 m - 388 m)     1.7 km 1.7 km...</td>\n",
       "      <td>Eastern US</td>\n",
       "      <td>New York</td>\n",
       "      <td>56 m (332 m - 388 m)</td>\n",
       "      <td>1.7 km 1.7 km 0 km 0 km</td>\n",
       "      <td>2 ski lifts</td>\n",
       "      <td></td>\n",
       "    </tr>\n",
       "    <tr>\n",
       "      <th>172</th>\n",
       "      <td>Cloudmont Ski Resort</td>\n",
       "      <td>North America USA Alabama</td>\n",
       "      <td>55 m (493 m - 548 m)     0.6 km 0.6 km...</td>\n",
       "      <td>Eastern US</td>\n",
       "      <td>Alabama</td>\n",
       "      <td>55 m (493 m - 548 m)</td>\n",
       "      <td>0.6 km 0.6 km 0 km 0 km</td>\n",
       "      <td>2 ski lifts</td>\n",
       "      <td>US$ 40,- / approx. € 34,-</td>\n",
       "    </tr>\n",
       "    <tr>\n",
       "      <th>173</th>\n",
       "      <td>Four Seasons</td>\n",
       "      <td>North America USA New York Finger Lakes</td>\n",
       "      <td>25 m (160 m - 185 m)     0.5 km 0.4 km...</td>\n",
       "      <td>Eastern US</td>\n",
       "      <td>New York</td>\n",
       "      <td>25 m (160 m - 185 m)</td>\n",
       "      <td>0.5 km 0.4 km 0.1 km 0 km</td>\n",
       "      <td>1 ski lift</td>\n",
       "      <td>US$ 24,- / approx. € 20,-</td>\n",
       "    </tr>\n",
       "    <tr>\n",
       "      <th>174</th>\n",
       "      <td>Aldis Hill Park – St. Albans</td>\n",
       "      <td>North America USA Vermont</td>\n",
       "      <td>30 m (120 m - 150 m)     0.4 km 0.2 km...</td>\n",
       "      <td>Eastern US</td>\n",
       "      <td>Vermont</td>\n",
       "      <td>30 m (120 m - 150 m)</td>\n",
       "      <td>0.4 km 0.2 km 0.2 km 0 km</td>\n",
       "      <td>2 ski lifts</td>\n",
       "      <td></td>\n",
       "    </tr>\n",
       "  </tbody>\n",
       "</table>\n",
       "<p>175 rows × 9 columns</p>\n",
       "</div>"
      ],
      "text/plain": [
       "                        Resort_Name  \\\n",
       "0                       Killington    \n",
       "1                     Sunday River    \n",
       "2                            Stowe    \n",
       "3          Whiteface – Lake Placid    \n",
       "4                         Stratton    \n",
       "..                              ...   \n",
       "170                     Boyce Park    \n",
       "171                     Villa Roma    \n",
       "172           Cloudmont Ski Resort    \n",
       "173                   Four Seasons    \n",
       "174   Aldis Hill Park – St. Albans    \n",
       "\n",
       "                                         Location  \\\n",
       "0                      North America USA Vermont    \n",
       "1                        North America USA Maine    \n",
       "2                      North America USA Vermont    \n",
       "3     North America USA New York The Adirondacks    \n",
       "4                      North America USA Vermont    \n",
       "..                                            ...   \n",
       "170               North America USA Pennsylvania    \n",
       "171     North America USA New York The Catskills    \n",
       "172                    North America USA Alabama    \n",
       "173      North America USA New York Finger Lakes    \n",
       "174                    North America USA Vermont    \n",
       "\n",
       "                                                  Info      Region  \\\n",
       "0          Test result      938 m (355 m - 1293 m) ...  Eastern US   \n",
       "1          Test result      707 m (250 m - 957 m)  ...  Eastern US   \n",
       "2          Test result      726 m (390 m - 1116 m) ...  Eastern US   \n",
       "3          Test result      969 m (371 m - 1340 m) ...  Eastern US   \n",
       "4          Evaluation      581 m (600 m - 1181 m)  ...  Eastern US   \n",
       "..                                                 ...         ...   \n",
       "170          40 m (340 m - 380 m)     1 km 1 km 0 k...  Eastern US   \n",
       "171          56 m (332 m - 388 m)     1.7 km 1.7 km...  Eastern US   \n",
       "172          55 m (493 m - 548 m)     0.6 km 0.6 km...  Eastern US   \n",
       "173          25 m (160 m - 185 m)     0.5 km 0.4 km...  Eastern US   \n",
       "174          30 m (120 m - 150 m)     0.4 km 0.2 km...  Eastern US   \n",
       "\n",
       "            State            Elevation_Info  \\\n",
       "0         Vermont    938 m (355 m - 1293 m)   \n",
       "1           Maine     707 m (250 m - 957 m)   \n",
       "2         Vermont    726 m (390 m - 1116 m)   \n",
       "3        New York    969 m (371 m - 1340 m)   \n",
       "4         Vermont    581 m (600 m - 1181 m)   \n",
       "..            ...                       ...   \n",
       "170  Pennsylvania      40 m (340 m - 380 m)   \n",
       "171      New York      56 m (332 m - 388 m)   \n",
       "172       Alabama      55 m (493 m - 548 m)   \n",
       "173      New York      25 m (160 m - 185 m)   \n",
       "174       Vermont      30 m (120 m - 150 m)   \n",
       "\n",
       "                         Distance_Info        Lift_Info  \\\n",
       "0     116.8 km 19.9 km 46.7 km 50.2 km     19 ski lifts   \n",
       "1      84.8 km 25.5 km 30.5 km 28.8 km     15 ski lifts   \n",
       "2               70 km 20 km 42 km 8 km     10 ski lifts   \n",
       "3         37 km 12.8 km 15.9 km 8.3 km     10 ski lifts   \n",
       "4              92 km 60 km 20 km 12 km     11 ski lifts   \n",
       "..                                 ...              ...   \n",
       "170                1 km 1 km 0 km 0 km       1 ski lift   \n",
       "171            1.7 km 1.7 km 0 km 0 km      2 ski lifts   \n",
       "172            0.6 km 0.6 km 0 km 0 km      2 ski lifts   \n",
       "173          0.5 km 0.4 km 0.1 km 0 km       1 ski lift   \n",
       "174          0.4 km 0.2 km 0.2 km 0 km      2 ski lifts   \n",
       "\n",
       "                          Price_Info  \n",
       "0      US$ 130,- / approx. € 110,-    \n",
       "1       US$ 109,- / approx. € 92,-    \n",
       "2      US$ 149,- / approx. € 126,-    \n",
       "3       US$ 104,- / approx. € 88,-    \n",
       "4      US$ 125,- / approx. € 105,-    \n",
       "..                               ...  \n",
       "170      US$ 28,- / approx. € 24,-    \n",
       "171                                   \n",
       "172      US$ 40,- / approx. € 34,-    \n",
       "173      US$ 24,- / approx. € 20,-    \n",
       "174                                   \n",
       "\n",
       "[175 rows x 9 columns]"
      ]
     },
     "execution_count": 85,
     "metadata": {},
     "output_type": "execute_result"
    }
   ],
   "source": [
    "eastern_resorts"
   ]
  },
  {
   "cell_type": "code",
   "execution_count": 86,
   "metadata": {},
   "outputs": [],
   "source": [
    "eastern_resorts.to_csv('Eastern_Resorts.csv')"
   ]
  },
  {
   "cell_type": "code",
   "execution_count": null,
   "metadata": {},
   "outputs": [],
   "source": []
  },
  {
   "cell_type": "code",
   "execution_count": null,
   "metadata": {},
   "outputs": [],
   "source": []
  }
 ],
 "metadata": {
  "kernelspec": {
   "display_name": "Python [conda env:metis] *",
   "language": "python",
   "name": "conda-env-metis-py"
  },
  "language_info": {
   "codemirror_mode": {
    "name": "ipython",
    "version": 3
   },
   "file_extension": ".py",
   "mimetype": "text/x-python",
   "name": "python",
   "nbconvert_exporter": "python",
   "pygments_lexer": "ipython3",
   "version": "3.8.3"
  }
 },
 "nbformat": 4,
 "nbformat_minor": 4
}
